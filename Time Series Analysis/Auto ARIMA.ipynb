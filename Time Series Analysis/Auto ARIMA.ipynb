{
 "metadata": {
  "language_info": {
   "codemirror_mode": {
    "name": "ipython",
    "version": 3
   },
   "file_extension": ".py",
   "mimetype": "text/x-python",
   "name": "python",
   "nbconvert_exporter": "python",
   "pygments_lexer": "ipython3",
   "version": 3
  },
  "orig_nbformat": 2,
  "kernelspec": {
   "name": "python_defaultSpec_1597035961199",
   "display_name": "Python 3.7.4 64-bit ('Anaconda3': conda)"
  }
 },
 "nbformat": 4,
 "nbformat_minor": 2,
 "cells": [
  {
   "cell_type": "code",
   "execution_count": 2,
   "metadata": {},
   "outputs": [],
   "source": [
    "import numpy as np\n",
    "import pandas as pd\n",
    "import statsmodels.api as sm\n",
    "import matplotlib.pyplot as plt\n",
    "import sklearn\n",
    "from statsmodels.tsa.arima_model import ARIMA\n",
    "import yfinance\n"
   ]
  },
  {
   "cell_type": "code",
   "execution_count": 3,
   "metadata": {
    "tags": []
   },
   "outputs": [
    {
     "output_type": "stream",
     "name": "stdout",
     "text": "[*********************100%***********************]  4 of 4 completed\n"
    }
   ],
   "source": [
    "raw_data = yfinance.download(tickers = '^GSPC ^FTSE ^N225 ^GDAXI'\n",
    ",start=\"1994-01-07\",end = \"2018-01-29\", interval = \"1d\",group_by=\"ticker\",\n",
    "auto_adjust=True,treads = True)"
   ]
  },
  {
   "cell_type": "code",
   "execution_count": 4,
   "metadata": {},
   "outputs": [],
   "source": [
    "data_copy = raw_data.copy()"
   ]
  },
  {
   "cell_type": "code",
   "execution_count": 5,
   "metadata": {},
   "outputs": [],
   "source": [
    "data_copy['spx'] = data_copy['^GSPC'].Close[:]\n",
    "data_copy['dax'] = data_copy['^GDAXI'].Close[:]\n",
    "data_copy['ftse'] = data_copy['^FTSE'].Close[:]\n",
    "data_copy['nikkei'] = data_copy['^N225'].Close[:]"
   ]
  },
  {
   "cell_type": "code",
   "execution_count": 6,
   "metadata": {},
   "outputs": [],
   "source": [
    "data_copy = data_copy.iloc[1:]\n",
    "data_copy.drop(['^GSPC','^N225','^GDAXI','^FTSE'],axis = 1,inplace = True)\n",
    "data_copy = data_copy.asfreq('b')\n",
    "data_copy = data_copy.fillna(method = 'ffill')"
   ]
  },
  {
   "cell_type": "code",
   "execution_count": 7,
   "metadata": {},
   "outputs": [],
   "source": [
    "data_copy['returns_spx'] = data_copy.spx.pct_change(1)*100\n",
    "data_copy['returns_ftse'] = data_copy.ftse.pct_change(1)*100\n",
    "data_copy['returns_dax'] = data_copy.dax.pct_change(1)*100\n",
    "data_copy['returns_nikkei'] = data_copy.nikkei.pct_change(1)*100"
   ]
  },
  {
   "cell_type": "code",
   "execution_count": 8,
   "metadata": {},
   "outputs": [],
   "source": [
    "size = int(len(data_copy)*0.8)\n",
    "data_copy_train,data_copy_test = data_copy.iloc[:size],data_copy.iloc[size:]"
   ]
  },
  {
   "cell_type": "markdown",
   "metadata": {},
   "source": [
    "### Fitting Auto ARIMA model"
   ]
  },
  {
   "cell_type": "code",
   "execution_count": 9,
   "metadata": {},
   "outputs": [],
   "source": [
    "from pmdarima import auto_arima"
   ]
  },
  {
   "cell_type": "code",
   "execution_count": 10,
   "metadata": {},
   "outputs": [],
   "source": [
    "auto_arima_model = auto_arima(data_copy_train.returns_ftse[1:])"
   ]
  },
  {
   "cell_type": "code",
   "execution_count": 11,
   "metadata": {},
   "outputs": [
    {
     "output_type": "execute_result",
     "data": {
      "text/plain": "<class 'statsmodels.iolib.summary.Summary'>\n\"\"\"\n                               SARIMAX Results                                \n==============================================================================\nDep. Variable:                      y   No. Observations:                 5019\nModel:               SARIMAX(3, 0, 5)   Log Likelihood               -7883.727\nDate:                Mon, 10 Aug 2020   AIC                          15785.453\nTime:                        10:52:23   BIC                          15844.142\nSample:                             0   HQIC                         15806.019\n                               - 5019                                         \nCovariance Type:                  opg                                         \n==============================================================================\n                 coef    std err          z      P>|z|      [0.025      0.975]\n------------------------------------------------------------------------------\nar.L1         -0.1273      0.078     -1.626      0.104      -0.281       0.026\nar.L2         -0.8760      0.020    -44.845      0.000      -0.914      -0.838\nar.L3         -0.2776      0.072     -3.879      0.000      -0.418      -0.137\nma.L1          0.1026      0.078      1.311      0.190      -0.051       0.256\nma.L2          0.8224      0.023     36.517      0.000       0.778       0.867\nma.L3          0.1648      0.070      2.362      0.018       0.028       0.302\nma.L4         -0.0085      0.009     -0.917      0.359      -0.027       0.010\nma.L5         -0.1114      0.008    -13.437      0.000      -0.128      -0.095\nsigma2         1.3547      0.015     91.102      0.000       1.326       1.384\n===================================================================================\nLjung-Box (Q):                       70.94   Jarque-Bera (JB):              6244.41\nProb(Q):                              0.00   Prob(JB):                         0.00\nHeteroskedasticity (H):               1.99   Skew:                            -0.17\nProb(H) (two-sided):                  0.00   Kurtosis:                         8.45\n===================================================================================\n\nWarnings:\n[1] Covariance matrix calculated using the outer product of gradients (complex-step).\n\"\"\"",
      "text/html": "<table class=\"simpletable\">\n<caption>SARIMAX Results</caption>\n<tr>\n  <th>Dep. Variable:</th>           <td>y</td>        <th>  No. Observations:  </th>   <td>5019</td>   \n</tr>\n<tr>\n  <th>Model:</th>           <td>SARIMAX(3, 0, 5)</td> <th>  Log Likelihood     </th> <td>-7883.727</td>\n</tr>\n<tr>\n  <th>Date:</th>            <td>Mon, 10 Aug 2020</td> <th>  AIC                </th> <td>15785.453</td>\n</tr>\n<tr>\n  <th>Time:</th>                <td>10:52:23</td>     <th>  BIC                </th> <td>15844.142</td>\n</tr>\n<tr>\n  <th>Sample:</th>                  <td>0</td>        <th>  HQIC               </th> <td>15806.019</td>\n</tr>\n<tr>\n  <th></th>                      <td> - 5019</td>     <th>                     </th>     <td> </td>    \n</tr>\n<tr>\n  <th>Covariance Type:</th>        <td>opg</td>       <th>                     </th>     <td> </td>    \n</tr>\n</table>\n<table class=\"simpletable\">\n<tr>\n     <td></td>       <th>coef</th>     <th>std err</th>      <th>z</th>      <th>P>|z|</th>  <th>[0.025</th>    <th>0.975]</th>  \n</tr>\n<tr>\n  <th>ar.L1</th>  <td>   -0.1273</td> <td>    0.078</td> <td>   -1.626</td> <td> 0.104</td> <td>   -0.281</td> <td>    0.026</td>\n</tr>\n<tr>\n  <th>ar.L2</th>  <td>   -0.8760</td> <td>    0.020</td> <td>  -44.845</td> <td> 0.000</td> <td>   -0.914</td> <td>   -0.838</td>\n</tr>\n<tr>\n  <th>ar.L3</th>  <td>   -0.2776</td> <td>    0.072</td> <td>   -3.879</td> <td> 0.000</td> <td>   -0.418</td> <td>   -0.137</td>\n</tr>\n<tr>\n  <th>ma.L1</th>  <td>    0.1026</td> <td>    0.078</td> <td>    1.311</td> <td> 0.190</td> <td>   -0.051</td> <td>    0.256</td>\n</tr>\n<tr>\n  <th>ma.L2</th>  <td>    0.8224</td> <td>    0.023</td> <td>   36.517</td> <td> 0.000</td> <td>    0.778</td> <td>    0.867</td>\n</tr>\n<tr>\n  <th>ma.L3</th>  <td>    0.1648</td> <td>    0.070</td> <td>    2.362</td> <td> 0.018</td> <td>    0.028</td> <td>    0.302</td>\n</tr>\n<tr>\n  <th>ma.L4</th>  <td>   -0.0085</td> <td>    0.009</td> <td>   -0.917</td> <td> 0.359</td> <td>   -0.027</td> <td>    0.010</td>\n</tr>\n<tr>\n  <th>ma.L5</th>  <td>   -0.1114</td> <td>    0.008</td> <td>  -13.437</td> <td> 0.000</td> <td>   -0.128</td> <td>   -0.095</td>\n</tr>\n<tr>\n  <th>sigma2</th> <td>    1.3547</td> <td>    0.015</td> <td>   91.102</td> <td> 0.000</td> <td>    1.326</td> <td>    1.384</td>\n</tr>\n</table>\n<table class=\"simpletable\">\n<tr>\n  <th>Ljung-Box (Q):</th>          <td>70.94</td> <th>  Jarque-Bera (JB):  </th> <td>6244.41</td>\n</tr>\n<tr>\n  <th>Prob(Q):</th>                <td>0.00</td>  <th>  Prob(JB):          </th>  <td>0.00</td>  \n</tr>\n<tr>\n  <th>Heteroskedasticity (H):</th> <td>1.99</td>  <th>  Skew:              </th>  <td>-0.17</td> \n</tr>\n<tr>\n  <th>Prob(H) (two-sided):</th>    <td>0.00</td>  <th>  Kurtosis:          </th>  <td>8.45</td>  \n</tr>\n</table><br/><br/>Warnings:<br/>[1] Covariance matrix calculated using the outer product of gradients (complex-step)."
     },
     "metadata": {},
     "execution_count": 11
    }
   ],
   "source": [
    "auto_arima_model.summary()"
   ]
  },
  {
   "cell_type": "code",
   "execution_count": null,
   "metadata": {},
   "outputs": [],
   "source": []
  }
 ]
}