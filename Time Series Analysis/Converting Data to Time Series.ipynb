{
 "metadata": {
  "language_info": {
   "codemirror_mode": {
    "name": "ipython",
    "version": 3
   },
   "file_extension": ".py",
   "mimetype": "text/x-python",
   "name": "python",
   "nbconvert_exporter": "python",
   "pygments_lexer": "ipython3",
   "version": 3
  },
  "orig_nbformat": 2,
  "kernelspec": {
   "name": "python_defaultSpec_1595826827990",
   "display_name": "Python 3.7.4 64-bit ('saket': virtualenv)"
  }
 },
 "nbformat": 4,
 "nbformat_minor": 2,
 "cells": [
  {
   "cell_type": "code",
   "execution_count": 1,
   "metadata": {},
   "outputs": [],
   "source": [
    "import numpy as np\n",
    "import pandas as pd"
   ]
  },
  {
   "cell_type": "code",
   "execution_count": 2,
   "metadata": {},
   "outputs": [],
   "source": [
    "data = pd.read_csv(r'C:\\Users\\saket\\Desktop\\courses\\TF\\100daysofML\\Time Series Analysis\\Index2018.csv')"
   ]
  },
  {
   "cell_type": "code",
   "execution_count": 3,
   "metadata": {},
   "outputs": [],
   "source": [
    "data_copy = data.copy()"
   ]
  },
  {
   "cell_type": "code",
   "execution_count": 8,
   "metadata": {},
   "outputs": [
    {
     "output_type": "execute_result",
     "data": {
      "text/plain": "count                    6269\nunique                   6269\ntop       1999-08-23 00:00:00\nfreq                        1\nfirst     1994-01-07 00:00:00\nlast      2018-01-29 00:00:00\nName: date, dtype: object"
     },
     "metadata": {},
     "execution_count": 8
    }
   ],
   "source": [
    "## finding length of the time period\n",
    "data_copy.date.describe()"
   ]
  },
  {
   "cell_type": "code",
   "execution_count": 6,
   "metadata": {},
   "outputs": [],
   "source": [
    "## Converting to date\n",
    "data_copy.date = pd.to_datetime(data_copy.date,dayfirst = True)"
   ]
  },
  {
   "cell_type": "code",
   "execution_count": 7,
   "metadata": {},
   "outputs": [
    {
     "output_type": "execute_result",
     "data": {
      "text/plain": "        date     spx      dax     ftse    nikkei\n0 1994-01-07  469.90  2224.95  3445.98  18124.01\n1 1994-01-10  475.27  2225.00  3440.58  18443.44\n2 1994-01-11  474.13  2228.10  3413.77  18485.25\n3 1994-01-12  474.17  2182.06  3372.02  18793.88\n4 1994-01-13  472.47  2142.37  3360.01  18577.26",
      "text/html": "<div>\n<style scoped>\n    .dataframe tbody tr th:only-of-type {\n        vertical-align: middle;\n    }\n\n    .dataframe tbody tr th {\n        vertical-align: top;\n    }\n\n    .dataframe thead th {\n        text-align: right;\n    }\n</style>\n<table border=\"1\" class=\"dataframe\">\n  <thead>\n    <tr style=\"text-align: right;\">\n      <th></th>\n      <th>date</th>\n      <th>spx</th>\n      <th>dax</th>\n      <th>ftse</th>\n      <th>nikkei</th>\n    </tr>\n  </thead>\n  <tbody>\n    <tr>\n      <th>0</th>\n      <td>1994-01-07</td>\n      <td>469.90</td>\n      <td>2224.95</td>\n      <td>3445.98</td>\n      <td>18124.01</td>\n    </tr>\n    <tr>\n      <th>1</th>\n      <td>1994-01-10</td>\n      <td>475.27</td>\n      <td>2225.00</td>\n      <td>3440.58</td>\n      <td>18443.44</td>\n    </tr>\n    <tr>\n      <th>2</th>\n      <td>1994-01-11</td>\n      <td>474.13</td>\n      <td>2228.10</td>\n      <td>3413.77</td>\n      <td>18485.25</td>\n    </tr>\n    <tr>\n      <th>3</th>\n      <td>1994-01-12</td>\n      <td>474.17</td>\n      <td>2182.06</td>\n      <td>3372.02</td>\n      <td>18793.88</td>\n    </tr>\n    <tr>\n      <th>4</th>\n      <td>1994-01-13</td>\n      <td>472.47</td>\n      <td>2142.37</td>\n      <td>3360.01</td>\n      <td>18577.26</td>\n    </tr>\n  </tbody>\n</table>\n</div>"
     },
     "metadata": {},
     "execution_count": 7
    }
   ],
   "source": [
    "data_copy.head()"
   ]
  },
  {
   "cell_type": "code",
   "execution_count": null,
   "metadata": {},
   "outputs": [],
   "source": []
  }
 ]
}