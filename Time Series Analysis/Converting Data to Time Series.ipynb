{
 "metadata": {
  "language_info": {
   "codemirror_mode": {
    "name": "ipython",
    "version": 3
   },
   "file_extension": ".py",
   "mimetype": "text/x-python",
   "name": "python",
   "nbconvert_exporter": "python",
   "pygments_lexer": "ipython3",
   "version": 3
  },
  "orig_nbformat": 2,
  "kernelspec": {
   "name": "python_defaultSpec_1595911552214",
   "display_name": "Python 3.7.4 64-bit ('saket': virtualenv)"
  }
 },
 "nbformat": 4,
 "nbformat_minor": 2,
 "cells": [
  {
   "cell_type": "code",
   "execution_count": 1,
   "metadata": {},
   "outputs": [],
   "source": [
    "import numpy as np\n",
    "import pandas as pd"
   ]
  },
  {
   "cell_type": "code",
   "execution_count": 2,
   "metadata": {},
   "outputs": [],
   "source": [
    "data = pd.read_csv(r'C:\\Users\\saket\\Desktop\\courses\\TF\\100daysofML\\Time Series Analysis\\Index2018.csv')"
   ]
  },
  {
   "cell_type": "code",
   "execution_count": 3,
   "metadata": {},
   "outputs": [],
   "source": [
    "data_copy = data.copy()"
   ]
  },
  {
   "cell_type": "code",
   "execution_count": 4,
   "metadata": {},
   "outputs": [
    {
     "output_type": "execute_result",
     "data": {
      "text/plain": "count           6269\nunique          6269\ntop       01/05/2006\nfreq               1\nName: date, dtype: object"
     },
     "metadata": {},
     "execution_count": 4
    }
   ],
   "source": [
    "## finding length of the time period\n",
    "data_copy.date.describe()"
   ]
  },
  {
   "cell_type": "markdown",
   "metadata": {},
   "source": [
    "### Converting to date"
   ]
  },
  {
   "cell_type": "code",
   "execution_count": 5,
   "metadata": {},
   "outputs": [],
   "source": [
    "\n",
    "data_copy.date = pd.to_datetime(data_copy.date,dayfirst = True)"
   ]
  },
  {
   "cell_type": "code",
   "execution_count": 6,
   "metadata": {},
   "outputs": [
    {
     "output_type": "execute_result",
     "data": {
      "text/plain": "        date     spx      dax     ftse    nikkei\n0 1994-01-07  469.90  2224.95  3445.98  18124.01\n1 1994-01-10  475.27  2225.00  3440.58  18443.44\n2 1994-01-11  474.13  2228.10  3413.77  18485.25\n3 1994-01-12  474.17  2182.06  3372.02  18793.88\n4 1994-01-13  472.47  2142.37  3360.01  18577.26",
      "text/html": "<div>\n<style scoped>\n    .dataframe tbody tr th:only-of-type {\n        vertical-align: middle;\n    }\n\n    .dataframe tbody tr th {\n        vertical-align: top;\n    }\n\n    .dataframe thead th {\n        text-align: right;\n    }\n</style>\n<table border=\"1\" class=\"dataframe\">\n  <thead>\n    <tr style=\"text-align: right;\">\n      <th></th>\n      <th>date</th>\n      <th>spx</th>\n      <th>dax</th>\n      <th>ftse</th>\n      <th>nikkei</th>\n    </tr>\n  </thead>\n  <tbody>\n    <tr>\n      <th>0</th>\n      <td>1994-01-07</td>\n      <td>469.90</td>\n      <td>2224.95</td>\n      <td>3445.98</td>\n      <td>18124.01</td>\n    </tr>\n    <tr>\n      <th>1</th>\n      <td>1994-01-10</td>\n      <td>475.27</td>\n      <td>2225.00</td>\n      <td>3440.58</td>\n      <td>18443.44</td>\n    </tr>\n    <tr>\n      <th>2</th>\n      <td>1994-01-11</td>\n      <td>474.13</td>\n      <td>2228.10</td>\n      <td>3413.77</td>\n      <td>18485.25</td>\n    </tr>\n    <tr>\n      <th>3</th>\n      <td>1994-01-12</td>\n      <td>474.17</td>\n      <td>2182.06</td>\n      <td>3372.02</td>\n      <td>18793.88</td>\n    </tr>\n    <tr>\n      <th>4</th>\n      <td>1994-01-13</td>\n      <td>472.47</td>\n      <td>2142.37</td>\n      <td>3360.01</td>\n      <td>18577.26</td>\n    </tr>\n  </tbody>\n</table>\n</div>"
     },
     "metadata": {},
     "execution_count": 6
    }
   ],
   "source": [
    "data_copy.head()"
   ]
  },
  {
   "cell_type": "markdown",
   "metadata": {},
   "source": [
    "### Setting the index\n"
   ]
  },
  {
   "cell_type": "code",
   "execution_count": 7,
   "metadata": {},
   "outputs": [],
   "source": [
    "data_copy.set_index('date',inplace = True)"
   ]
  },
  {
   "cell_type": "code",
   "execution_count": 8,
   "metadata": {},
   "outputs": [
    {
     "output_type": "execute_result",
     "data": {
      "text/plain": "               spx      dax     ftse    nikkei\ndate                                          \n1994-01-07  469.90  2224.95  3445.98  18124.01\n1994-01-10  475.27  2225.00  3440.58  18443.44\n1994-01-11  474.13  2228.10  3413.77  18485.25\n1994-01-12  474.17  2182.06  3372.02  18793.88\n1994-01-13  472.47  2142.37  3360.01  18577.26",
      "text/html": "<div>\n<style scoped>\n    .dataframe tbody tr th:only-of-type {\n        vertical-align: middle;\n    }\n\n    .dataframe tbody tr th {\n        vertical-align: top;\n    }\n\n    .dataframe thead th {\n        text-align: right;\n    }\n</style>\n<table border=\"1\" class=\"dataframe\">\n  <thead>\n    <tr style=\"text-align: right;\">\n      <th></th>\n      <th>spx</th>\n      <th>dax</th>\n      <th>ftse</th>\n      <th>nikkei</th>\n    </tr>\n    <tr>\n      <th>date</th>\n      <th></th>\n      <th></th>\n      <th></th>\n      <th></th>\n    </tr>\n  </thead>\n  <tbody>\n    <tr>\n      <th>1994-01-07</th>\n      <td>469.90</td>\n      <td>2224.95</td>\n      <td>3445.98</td>\n      <td>18124.01</td>\n    </tr>\n    <tr>\n      <th>1994-01-10</th>\n      <td>475.27</td>\n      <td>2225.00</td>\n      <td>3440.58</td>\n      <td>18443.44</td>\n    </tr>\n    <tr>\n      <th>1994-01-11</th>\n      <td>474.13</td>\n      <td>2228.10</td>\n      <td>3413.77</td>\n      <td>18485.25</td>\n    </tr>\n    <tr>\n      <th>1994-01-12</th>\n      <td>474.17</td>\n      <td>2182.06</td>\n      <td>3372.02</td>\n      <td>18793.88</td>\n    </tr>\n    <tr>\n      <th>1994-01-13</th>\n      <td>472.47</td>\n      <td>2142.37</td>\n      <td>3360.01</td>\n      <td>18577.26</td>\n    </tr>\n  </tbody>\n</table>\n</div>"
     },
     "metadata": {},
     "execution_count": 8
    }
   ],
   "source": [
    "data_copy.head()"
   ]
  },
  {
   "cell_type": "markdown",
   "metadata": {},
   "source": [
    "### Setting the frequency. This will help in setting daily, yearly, weekly frequency. This also generates new data points. New data points might be generated without a value."
   ]
  },
  {
   "cell_type": "code",
   "execution_count": 11,
   "metadata": {},
   "outputs": [],
   "source": [
    "data_copy = data_copy.asfreq('b') ## Daily frequency. Skips non business days."
   ]
  },
  {
   "cell_type": "code",
   "execution_count": 12,
   "metadata": {},
   "outputs": [
    {
     "output_type": "execute_result",
     "data": {
      "text/plain": "               spx      dax     ftse    nikkei\ndate                                          \n1994-01-07  469.90  2224.95  3445.98  18124.01\n1994-01-10  475.27  2225.00  3440.58  18443.44\n1994-01-11  474.13  2228.10  3413.77  18485.25\n1994-01-12  474.17  2182.06  3372.02  18793.88\n1994-01-13  472.47  2142.37  3360.01  18577.26",
      "text/html": "<div>\n<style scoped>\n    .dataframe tbody tr th:only-of-type {\n        vertical-align: middle;\n    }\n\n    .dataframe tbody tr th {\n        vertical-align: top;\n    }\n\n    .dataframe thead th {\n        text-align: right;\n    }\n</style>\n<table border=\"1\" class=\"dataframe\">\n  <thead>\n    <tr style=\"text-align: right;\">\n      <th></th>\n      <th>spx</th>\n      <th>dax</th>\n      <th>ftse</th>\n      <th>nikkei</th>\n    </tr>\n    <tr>\n      <th>date</th>\n      <th></th>\n      <th></th>\n      <th></th>\n      <th></th>\n    </tr>\n  </thead>\n  <tbody>\n    <tr>\n      <th>1994-01-07</th>\n      <td>469.90</td>\n      <td>2224.95</td>\n      <td>3445.98</td>\n      <td>18124.01</td>\n    </tr>\n    <tr>\n      <th>1994-01-10</th>\n      <td>475.27</td>\n      <td>2225.00</td>\n      <td>3440.58</td>\n      <td>18443.44</td>\n    </tr>\n    <tr>\n      <th>1994-01-11</th>\n      <td>474.13</td>\n      <td>2228.10</td>\n      <td>3413.77</td>\n      <td>18485.25</td>\n    </tr>\n    <tr>\n      <th>1994-01-12</th>\n      <td>474.17</td>\n      <td>2182.06</td>\n      <td>3372.02</td>\n      <td>18793.88</td>\n    </tr>\n    <tr>\n      <th>1994-01-13</th>\n      <td>472.47</td>\n      <td>2142.37</td>\n      <td>3360.01</td>\n      <td>18577.26</td>\n    </tr>\n  </tbody>\n</table>\n</div>"
     },
     "metadata": {},
     "execution_count": 12
    }
   ],
   "source": [
    "data_copy.head()"
   ]
  },
  {
   "cell_type": "markdown",
   "metadata": {},
   "source": [
    "### Handling missing values in the dataframe"
   ]
  },
  {
   "cell_type": "code",
   "execution_count": 20,
   "metadata": {},
   "outputs": [
    {
     "output_type": "execute_result",
     "data": {
      "text/plain": "spx       0\ndax       0\nftse      0\nnikkei    0\ndtype: int64"
     },
     "metadata": {},
     "execution_count": 20
    }
   ],
   "source": [
    "data_copy.isna().sum()"
   ]
  },
  {
   "cell_type": "code",
   "execution_count": 15,
   "metadata": {},
   "outputs": [],
   "source": [
    "## Front filling / Back filling for NAs\n",
    "data_copy.spx = data_copy.spx.fillna('ffill')"
   ]
  },
  {
   "cell_type": "code",
   "execution_count": 16,
   "metadata": {},
   "outputs": [],
   "source": [
    "data_copy.ftse = data_copy.ftse.fillna('bfill')"
   ]
  },
  {
   "cell_type": "code",
   "execution_count": 19,
   "metadata": {},
   "outputs": [],
   "source": [
    "data_copy.dax = data_copy.dax.fillna(np.mean(data_copy.dax))\n",
    "data_copy.nikkei = data_copy.nikkei.fillna(np.mean(data_copy.nikkei))"
   ]
  },
  {
   "cell_type": "code",
   "execution_count": 21,
   "metadata": {},
   "outputs": [],
   "source": [
    "data_copy['market_value'] = data_copy.spx"
   ]
  },
  {
   "cell_type": "code",
   "execution_count": 25,
   "metadata": {},
   "outputs": [],
   "source": [
    "data_copy.drop(['spx','nikkei','dax'],axis = 1,inplace  = True)"
   ]
  },
  {
   "cell_type": "code",
   "execution_count": 26,
   "metadata": {},
   "outputs": [
    {
     "output_type": "execute_result",
     "data": {
      "text/plain": "         ftse market_value\ncount    6277         6277\nunique   6016         6030\ntop     bfill        ffill\nfreq        8            8",
      "text/html": "<div>\n<style scoped>\n    .dataframe tbody tr th:only-of-type {\n        vertical-align: middle;\n    }\n\n    .dataframe tbody tr th {\n        vertical-align: top;\n    }\n\n    .dataframe thead th {\n        text-align: right;\n    }\n</style>\n<table border=\"1\" class=\"dataframe\">\n  <thead>\n    <tr style=\"text-align: right;\">\n      <th></th>\n      <th>ftse</th>\n      <th>market_value</th>\n    </tr>\n  </thead>\n  <tbody>\n    <tr>\n      <th>count</th>\n      <td>6277</td>\n      <td>6277</td>\n    </tr>\n    <tr>\n      <th>unique</th>\n      <td>6016</td>\n      <td>6030</td>\n    </tr>\n    <tr>\n      <th>top</th>\n      <td>bfill</td>\n      <td>ffill</td>\n    </tr>\n    <tr>\n      <th>freq</th>\n      <td>8</td>\n      <td>8</td>\n    </tr>\n  </tbody>\n</table>\n</div>"
     },
     "metadata": {},
     "execution_count": 26
    }
   ],
   "source": [
    "data_copy.describe()"
   ]
  },
  {
   "cell_type": "markdown",
   "metadata": {},
   "source": [
    "### Train test split for time series data. Shuffeling is not a good choice when working with time series. We split the data to a specific point and keep it as a training set and the rest as the test set."
   ]
  },
  {
   "cell_type": "code",
   "execution_count": 27,
   "metadata": {},
   "outputs": [],
   "source": [
    "train_size = int(len(data_copy)*0.8)"
   ]
  },
  {
   "cell_type": "code",
   "execution_count": 28,
   "metadata": {},
   "outputs": [
    {
     "output_type": "execute_result",
     "data": {
      "text/plain": "5021"
     },
     "metadata": {},
     "execution_count": 28
    }
   ],
   "source": [
    "train_size"
   ]
  },
  {
   "cell_type": "code",
   "execution_count": 32,
   "metadata": {},
   "outputs": [],
   "source": [
    "test_set = data_copy.iloc[train_size:]\n",
    "train_set = data_copy.iloc[:train_size]"
   ]
  },
  {
   "cell_type": "code",
   "execution_count": 33,
   "metadata": {},
   "outputs": [
    {
     "output_type": "execute_result",
     "data": {
      "text/plain": "5021"
     },
     "metadata": {},
     "execution_count": 33
    }
   ],
   "source": [
    "len(train_set)"
   ]
  },
  {
   "cell_type": "code",
   "execution_count": null,
   "metadata": {},
   "outputs": [],
   "source": []
  }
 ]
}