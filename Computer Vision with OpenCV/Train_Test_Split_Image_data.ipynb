{
 "metadata": {
  "language_info": {
   "codemirror_mode": {
    "name": "ipython",
    "version": 3
   },
   "file_extension": ".py",
   "mimetype": "text/x-python",
   "name": "python",
   "nbconvert_exporter": "python",
   "pygments_lexer": "ipython3",
   "version": 3
  },
  "orig_nbformat": 2,
  "kernelspec": {
   "name": "python_defaultSpec_1595568517207",
   "display_name": "Python 3.7.4 64-bit ('Anaconda3': conda)"
  }
 },
 "nbformat": 4,
 "nbformat_minor": 2,
 "cells": [
  {
   "cell_type": "code",
   "execution_count": 9,
   "metadata": {
    "tags": [
     "outputPrepend"
    ]
   },
   "outputs": [
    {
     "output_type": "stream",
     "name": "stdout",
     "text": "1162.jpg', 'dog.1163.jpg', 'dog.1164.jpg', 'dog.1165.jpg', 'dog.1166.jpg', 'dog.1167.jpg', 'dog.1168.jpg', 'dog.1169.jpg', 'dog.117.jpg', 'dog.1170.jpg', 'dog.1171.jpg', 'dog.1172.jpg', 'dog.1173.jpg', 'dog.1174.jpg', 'dog.1175.jpg', 'dog.1176.jpg', 'dog.1177.jpg', 'dog.1178.jpg', 'dog.1179.jpg', 'dog.118.jpg', 'dog.1180.jpg', 'dog.1181.jpg', 'dog.1182.jpg', 'dog.1183.jpg', 'dog.1184.jpg', 'dog.1185.jpg', 'dog.1186.jpg', 'dog.1187.jpg', 'dog.1188.jpg', 'dog.1189.jpg', 'dog.119.jpg', 'dog.1190.jpg', 'dog.1191.jpg', 'dog.1192.jpg', 'dog.1193.jpg', 'dog.1194.jpg', 'dog.1195.jpg', 'dog.1196.jpg', 'dog.1197.jpg', 'dog.1198.jpg', 'dog.1199.jpg', 'dog.12.jpg', 'dog.120.jpg', 'dog.1200.jpg', 'dog.1201.jpg', 'dog.1202.jpg', 'dog.1203.jpg', 'dog.1204.jpg', 'dog.1205.jpg', 'dog.1206.jpg', 'dog.1207.jpg', 'dog.1208.jpg', 'dog.1209.jpg', 'dog.121.jpg', 'dog.1210.jpg', 'dog.1211.jpg', 'dog.1212.jpg', 'dog.1213.jpg', 'dog.1214.jpg', 'dog.1215.jpg', 'dog.1216.jpg', 'dog.1217.jpg', 'dog.1218.jpg', 'dog.1219.jpg', 'dog.122.jpg', 'dog.1220.jpg', 'dog.1221.jpg', 'dog.1222.jpg', 'dog.1223.jpg', 'dog.1224.jpg', 'dog.1225.jpg', 'dog.1226.jpg', 'dog.1227.jpg', 'dog.1228.jpg', 'dog.1229.jpg', 'dog.123.jpg', 'dog.1230.jpg', 'dog.1231.jpg', 'dog.1232.jpg', 'dog.1233.jpg', 'dog.1234.jpg', 'dog.1235.jpg', 'dog.1236.jpg', 'dog.1237.jpg', 'dog.1238.jpg', 'dog.1239.jpg', 'dog.124.jpg', 'dog.1240.jpg', 'dog.1241.jpg', 'dog.1242.jpg', 'dog.1243.jpg', 'dog.1244.jpg', 'dog.1245.jpg', 'dog.1246.jpg', 'dog.1247.jpg', 'dog.1248.jpg', 'dog.1249.jpg', 'dog.125.jpg', 'dog.1250.jpg', 'dog.1251.jpg', 'dog.1252.jpg', 'dog.1253.jpg', 'dog.1254.jpg', 'dog.1255.jpg', 'dog.1256.jpg', 'dog.1257.jpg', 'dog.1258.jpg', 'dog.1259.jpg', 'dog.126.jpg', 'dog.1260.jpg', 'dog.1261.jpg', 'dog.1262.jpg', 'dog.1263.jpg', 'dog.1264.jpg', 'dog.1265.jpg', 'dog.1266.jpg', 'dog.1267.jpg', 'dog.1268.jpg', 'dog.1269.jpg', 'dog.127.jpg', 'dog.1270.jpg', 'dog.1271.jpg', 'dog.1272.jpg', 'dog.1273.jpg', 'dog.1274.jpg', 'dog.1275.jpg', 'dog.1276.jpg', 'dog.1277.jpg', 'dog.1278.jpg', 'dog.1279.jpg', 'dog.128.jpg', 'dog.1280.jpg', 'dog.1281.jpg', 'dog.1282.jpg', 'dog.1283.jpg', 'dog.1284.jpg', 'dog.1285.jpg', 'dog.1286.jpg', 'dog.1287.jpg', 'dog.1288.jpg', 'dog.1289.jpg', 'dog.129.jpg', 'dog.1290.jpg', 'dog.1291.jpg', 'dog.1292.jpg', 'dog.1293.jpg', 'dog.1294.jpg', 'dog.1295.jpg', 'dog.1296.jpg', 'dog.1297.jpg', 'dog.1298.jpg', 'dog.1299.jpg', 'dog.13.jpg', 'dog.130.jpg', 'dog.1300.jpg', 'dog.1301.jpg', 'dog.1302.jpg', 'dog.1303.jpg', 'dog.1304.jpg', 'dog.1305.jpg', 'dog.1306.jpg', 'dog.1307.jpg', 'dog.1308.jpg', 'dog.1309.jpg', 'dog.131.jpg', 'dog.1310.jpg', 'dog.1311.jpg', 'dog.1312.jpg', 'dog.1313.jpg', 'dog.1314.jpg', 'dog.1315.jpg', 'dog.1316.jpg', 'dog.1317.jpg', 'dog.1318.jpg', 'dog.1319.jpg', 'dog.132.jpg', 'dog.1320.jpg', 'dog.1321.jpg', 'dog.1322.jpg', 'dog.1323.jpg', 'dog.1324.jpg', 'dog.1325.jpg', 'dog.1326.jpg', 'dog.1327.jpg', 'dog.1328.jpg', 'dog.1329.jpg', 'dog.133.jpg', 'dog.1330.jpg', 'dog.1331.jpg', 'dog.1332.jpg', 'dog.1333.jpg', 'dog.1334.jpg', 'dog.1335.jpg', 'dog.1336.jpg', 'dog.1337.jpg', 'dog.1338.jpg', 'dog.1339.jpg', 'dog.134.jpg', 'dog.1340.jpg', 'dog.1341.jpg', 'dog.1342.jpg', 'dog.1343.jpg', 'dog.1344.jpg', 'dog.1345.jpg', 'dog.1346.jpg', 'dog.1347.jpg', 'dog.1348.jpg', 'dog.1349.jpg', 'dog.135.jpg', 'dog.1350.jpg', 'dog.1351.jpg', 'dog.1352.jpg', 'dog.1353.jpg', 'dog.1354.jpg', 'dog.1355.jpg', 'dog.1356.jpg', 'dog.1357.jpg', 'dog.1358.jpg', 'dog.1359.jpg', 'dog.136.jpg', 'dog.1360.jpg', 'dog.1361.jpg', 'dog.1362.jpg', 'dog.1363.jpg', 'dog.1364.jpg', 'dog.1365.jpg', 'dog.1366.jpg', 'dog.1367.jpg', 'dog.1368.jpg', 'dog.1369.jpg', 'dog.137.jpg', 'dog.1370.jpg', 'dog.1371.jpg', 'dog.1372.jpg', 'dog.1373.jpg', 'dog.1374.jpg', 'dog.1375.jpg', 'dog.1376.jpg', 'dog.1377.jpg', 'dog.1378.jpg', 'dog.1379.jpg', 'dog.138.jpg', 'dog.1380.jpg', 'dog.1381.jpg', 'dog.1382.jpg', 'dog.1383.jpg', 'dog.1384.jpg', 'dog.1385.jpg', 'dog.1386.jpg', 'dog.1387.jpg', 'dog.1388.jpg', 'dog.1389.jpg', 'dog.139.jpg', 'dog.1390.jpg', 'dog.1391.jpg', 'dog.1392.jpg', 'dog.1393.jpg', 'dog.1394.jpg', 'dog.1395.jpg', 'dog.1396.jpg', 'dog.1397.jpg', 'dog.1398.jpg', 'dog.1399.jpg', 'dog.14.jpg', 'dog.140.jpg', 'dog.1400.jpg', 'dog.1401.jpg', 'dog.1402.jpg', 'dog.1403.jpg', 'dog.1404.jpg', 'dog.1405.jpg', 'dog.1406.jpg', 'dog.1407.jpg', 'dog.1408.jpg', 'dog.1409.jpg', 'dog.141.jpg', 'dog.1410.jpg', 'dog.1411.jpg', 'dog.1412.jpg', 'dog.1413.jpg', 'dog.1414.jpg', 'dog.1415.jpg', 'dog.1416.jpg', 'dog.1417.jpg', 'dog.1418.jpg', 'dog.1419.jpg', 'dog.142.jpg', 'dog.1420.jpg', 'dog.1421.jpg', 'dog.1422.jpg', 'dog.1423.jpg', 'dog.1424.jpg', 'dog.1425.jpg', 'dog.1426.jpg', 'dog.1427.jpg', 'dog.1428.jpg', 'dog.1429.jpg', 'dog.143.jpg', 'dog.1430.jpg', 'dog.1431.jpg', 'dog.1432.jpg', 'dog.1433.jpg', 'dog.1434.jpg', 'dog.1435.jpg', 'dog.1436.jpg', 'dog.1437.jpg', 'dog.1438.jpg', 'dog.1439.jpg', 'dog.144.jpg', 'dog.1440.jpg', 'dog.1441.jpg', 'dog.1442.jpg', 'dog.1443.jpg', 'dog.1444.jpg', 'dog.1445.jpg', 'dog.1446.jpg', 'dog.1447.jpg', 'dog.1448.jpg', 'dog.1449.jpg', 'dog.145.jpg', 'dog.1450.jpg', 'dog.1451.jpg', 'dog.1452.jpg', 'dog.1453.jpg', 'dog.1454.jpg', 'dog.1455.jpg', 'dog.1456.jpg', 'dog.1457.jpg', 'dog.1458.jpg', 'dog.1459.jpg', 'dog.146.jpg', 'dog.1460.jpg', 'dog.1461.jpg', 'dog.1462.jpg', 'dog.1463.jpg', 'dog.1464.jpg', 'dog.1465.jpg', 'dog.1466.jpg', 'dog.1467.jpg', 'dog.1468.jpg', 'dog.1469.jpg', 'dog.147.jpg', 'dog.1470.jpg', 'dog.1471.jpg', 'dog.1472.jpg', 'dog.1473.jpg', 'dog.1474.jpg', 'dog.1475.jpg', 'dog.1476.jpg', 'dog.1477.jpg', 'dog.1478.jpg', 'dog.1479.jpg', 'dog.148.jpg', 'dog.1480.jpg', 'dog.1481.jpg', 'dog.1482.jpg', 'dog.1483.jpg', 'dog.1484.jpg', 'dog.1485.jpg', 'dog.1486.jpg', 'dog.1487.jpg', 'dog.1488.jpg', 'dog.1489.jpg', 'dog.149.jpg', 'dog.1490.jpg', 'dog.1491.jpg', 'dog.1492.jpg', 'dog.1493.jpg', 'dog.1494.jpg', 'dog.1495.jpg', 'dog.1496.jpg', 'dog.1497.jpg', 'dog.1498.jpg', 'dog.1499.jpg', 'dog.15.jpg', 'dog.150.jpg', 'dog.1500.jpg', 'dog.151.jpg', 'dog.152.jpg', 'dog.153.jpg', 'dog.154.jpg', 'dog.155.jpg', 'dog.156.jpg', 'dog.157.jpg', 'dog.158.jpg', 'dog.159.jpg', 'dog.16.jpg', 'dog.160.jpg', 'dog.161.jpg', 'dog.162.jpg', 'dog.163.jpg', 'dog.164.jpg', 'dog.165.jpg', 'dog.166.jpg', 'dog.167.jpg', 'dog.168.jpg', 'dog.169.jpg', 'dog.17.jpg', 'dog.170.jpg', 'dog.171.jpg', 'dog.172.jpg', 'dog.173.jpg', 'dog.174.jpg', 'dog.175.jpg', 'dog.176.jpg', 'dog.177.jpg', 'dog.178.jpg', 'dog.179.jpg', 'dog.18.jpg', 'dog.180.jpg', 'dog.181.jpg', 'dog.182.jpg', 'dog.183.jpg', 'dog.184.jpg', 'dog.185.jpg', 'dog.186.jpg', 'dog.187.jpg', 'dog.188.jpg', 'dog.189.jpg', 'dog.19.jpg', 'dog.190.jpg', 'dog.191.jpg', 'dog.192.jpg', 'dog.193.jpg', 'dog.194.jpg', 'dog.195.jpg', 'dog.196.jpg', 'dog.197.jpg', 'dog.198.jpg', 'dog.199.jpg', 'dog.2.jpg', 'dog.20.jpg', 'dog.200.jpg', 'dog.201.jpg', 'dog.202.jpg', 'dog.203.jpg', 'dog.204.jpg', 'dog.205.jpg', 'dog.206.jpg', 'dog.207.jpg', 'dog.208.jpg', 'dog.209.jpg', 'dog.21.jpg', 'dog.210.jpg', 'dog.211.jpg', 'dog.212.jpg', 'dog.213.jpg', 'dog.214.jpg', 'dog.215.jpg', 'dog.216.jpg', 'dog.217.jpg', 'dog.218.jpg', 'dog.219.jpg', 'dog.22.jpg', 'dog.220.jpg', 'dog.221.jpg', 'dog.222.jpg', 'dog.223.jpg', 'dog.224.jpg', 'dog.225.jpg', 'dog.226.jpg', 'dog.227.jpg', 'dog.228.jpg', 'dog.229.jpg', 'dog.23.jpg', 'dog.230.jpg', 'dog.231.jpg', 'dog.232.jpg', 'dog.233.jpg', 'dog.234.jpg', 'dog.235.jpg', 'dog.236.jpg', 'dog.237.jpg', 'dog.238.jpg', 'dog.239.jpg', 'dog.24.jpg', 'dog.240.jpg', 'dog.241.jpg', 'dog.242.jpg', 'dog.243.jpg', 'dog.244.jpg', 'dog.245.jpg', 'dog.246.jpg', 'dog.247.jpg', 'dog.248.jpg', 'dog.249.jpg', 'dog.25.jpg', 'dog.250.jpg', 'dog.251.jpg', 'dog.252.jpg', 'dog.253.jpg', 'dog.254.jpg', 'dog.255.jpg', 'dog.256.jpg', 'dog.257.jpg', 'dog.258.jpg', 'dog.259.jpg', 'dog.26.jpg', 'dog.260.jpg', 'dog.261.jpg', 'dog.262.jpg', 'dog.263.jpg', 'dog.264.jpg', 'dog.265.jpg', 'dog.266.jpg', 'dog.267.jpg', 'dog.268.jpg', 'dog.269.jpg', 'dog.27.jpg', 'dog.270.jpg', 'dog.271.jpg', 'dog.272.jpg', 'dog.273.jpg', 'dog.274.jpg', 'dog.275.jpg', 'dog.276.jpg', 'dog.277.jpg', 'dog.278.jpg', 'dog.279.jpg', 'dog.28.jpg', 'dog.280.jpg', 'dog.281.jpg', 'dog.282.jpg', 'dog.283.jpg', 'dog.284.jpg', 'dog.285.jpg', 'dog.286.jpg', 'dog.287.jpg', 'dog.288.jpg', 'dog.289.jpg', 'dog.29.jpg', 'dog.290.jpg', 'dog.291.jpg', 'dog.292.jpg', 'dog.293.jpg', 'dog.294.jpg', 'dog.295.jpg', 'dog.296.jpg', 'dog.297.jpg', 'dog.298.jpg', 'dog.299.jpg', 'dog.3.jpg', 'dog.30.jpg', 'dog.300.jpg', 'dog.301.jpg', 'dog.302.jpg', 'dog.303.jpg', 'dog.304.jpg', 'dog.305.jpg', 'dog.306.jpg', 'dog.307.jpg', 'dog.308.jpg', 'dog.309.jpg', 'dog.31.jpg', 'dog.310.jpg', 'dog.311.jpg', 'dog.312.jpg', 'dog.313.jpg', 'dog.314.jpg', 'dog.315.jpg', 'dog.316.jpg', 'dog.317.jpg', 'dog.318.jpg', 'dog.319.jpg', 'dog.32.jpg', 'dog.320.jpg', 'dog.321.jpg', 'dog.322.jpg', 'dog.323.jpg', 'dog.324.jpg', 'dog.325.jpg', 'dog.326.jpg', 'dog.327.jpg', 'dog.328.jpg', 'dog.329.jpg', 'dog.33.jpg', 'dog.330.jpg', 'dog.331.jpg', 'dog.332.jpg', 'dog.333.jpg', 'dog.334.jpg', 'dog.335.jpg', 'dog.336.jpg', 'dog.337.jpg', 'dog.338.jpg', 'dog.339.jpg', 'dog.34.jpg', 'dog.340.jpg', 'dog.341.jpg', 'dog.342.jpg', 'dog.343.jpg', 'dog.344.jpg', 'dog.345.jpg', 'dog.346.jpg', 'dog.347.jpg', 'dog.348.jpg', 'dog.349.jpg', 'dog.35.jpg', 'dog.350.jpg', 'dog.351.jpg', 'dog.352.jpg', 'dog.353.jpg', 'dog.354.jpg', 'dog.355.jpg', 'dog.356.jpg', 'dog.357.jpg', 'dog.358.jpg', 'dog.359.jpg', 'dog.36.jpg', 'dog.360.jpg', 'dog.361.jpg', 'dog.362.jpg', 'dog.363.jpg', 'dog.364.jpg', 'dog.365.jpg', 'dog.366.jpg', 'dog.367.jpg', 'dog.368.jpg', 'dog.369.jpg', 'dog.37.jpg', 'dog.370.jpg', 'dog.371.jpg', 'dog.372.jpg', 'dog.373.jpg', 'dog.374.jpg', 'dog.375.jpg', 'dog.376.jpg', 'dog.377.jpg', 'dog.378.jpg', 'dog.379.jpg', 'dog.38.jpg', 'dog.380.jpg', 'dog.381.jpg', 'dog.382.jpg', 'dog.383.jpg', 'dog.384.jpg', 'dog.385.jpg', 'dog.386.jpg', 'dog.387.jpg', 'dog.388.jpg', 'dog.389.jpg', 'dog.39.jpg', 'dog.390.jpg', 'dog.391.jpg', 'dog.392.jpg', 'dog.393.jpg', 'dog.394.jpg', 'dog.395.jpg', 'dog.396.jpg', 'dog.397.jpg', 'dog.398.jpg', 'dog.399.jpg', 'dog.4.jpg', 'dog.40.jpg', 'dog.400.jpg', 'dog.401.jpg', 'dog.402.jpg', 'dog.403.jpg', 'dog.404.jpg', 'dog.405.jpg', 'dog.406.jpg', 'dog.407.jpg', 'dog.408.jpg', 'dog.409.jpg', 'dog.41.jpg', 'dog.410.jpg', 'dog.411.jpg', 'dog.412.jpg', 'dog.413.jpg', 'dog.414.jpg', 'dog.415.jpg', 'dog.416.jpg', 'dog.417.jpg', 'dog.418.jpg', 'dog.419.jpg', 'dog.42.jpg', 'dog.420.jpg', 'dog.421.jpg', 'dog.422.jpg', 'dog.423.jpg', 'dog.424.jpg', 'dog.425.jpg', 'dog.426.jpg', 'dog.427.jpg', 'dog.428.jpg', 'dog.429.jpg', 'dog.43.jpg', 'dog.430.jpg', 'dog.431.jpg', 'dog.432.jpg', 'dog.433.jpg', 'dog.434.jpg', 'dog.435.jpg', 'dog.436.jpg', 'dog.437.jpg', 'dog.438.jpg', 'dog.439.jpg', 'dog.44.jpg', 'dog.440.jpg', 'dog.441.jpg', 'dog.442.jpg', 'dog.443.jpg', 'dog.444.jpg', 'dog.445.jpg', 'dog.446.jpg', 'dog.447.jpg', 'dog.448.jpg', 'dog.449.jpg', 'dog.45.jpg', 'dog.450.jpg', 'dog.451.jpg', 'dog.452.jpg', 'dog.453.jpg', 'dog.454.jpg', 'dog.455.jpg', 'dog.456.jpg', 'dog.457.jpg', 'dog.458.jpg', 'dog.459.jpg', 'dog.46.jpg', 'dog.460.jpg', 'dog.461.jpg', 'dog.462.jpg', 'dog.463.jpg', 'dog.464.jpg', 'dog.465.jpg', 'dog.466.jpg', 'dog.467.jpg', 'dog.468.jpg', 'dog.469.jpg', 'dog.47.jpg', 'dog.470.jpg', 'dog.471.jpg', 'dog.472.jpg', 'dog.473.jpg', 'dog.474.jpg', 'dog.475.jpg', 'dog.476.jpg', 'dog.477.jpg', 'dog.478.jpg', 'dog.479.jpg', 'dog.48.jpg', 'dog.480.jpg', 'dog.481.jpg', 'dog.482.jpg', 'dog.483.jpg', 'dog.484.jpg', 'dog.485.jpg', 'dog.486.jpg', 'dog.487.jpg', 'dog.488.jpg', 'dog.489.jpg', 'dog.49.jpg', 'dog.490.jpg', 'dog.491.jpg', 'dog.492.jpg', 'dog.493.jpg', 'dog.494.jpg', 'dog.495.jpg', 'dog.496.jpg', 'dog.497.jpg', 'dog.498.jpg', 'dog.499.jpg', 'dog.5.jpg', 'dog.50.jpg', 'dog.500.jpg', 'dog.501.jpg', 'dog.502.jpg', 'dog.503.jpg', 'dog.504.jpg', 'dog.505.jpg', 'dog.506.jpg', 'dog.507.jpg', 'dog.508.jpg', 'dog.509.jpg', 'dog.51.jpg', 'dog.510.jpg', 'dog.511.jpg', 'dog.512.jpg', 'dog.513.jpg', 'dog.514.jpg', 'dog.515.jpg', 'dog.516.jpg', 'dog.517.jpg', 'dog.518.jpg', 'dog.519.jpg', 'dog.52.jpg', 'dog.520.jpg', 'dog.521.jpg', 'dog.522.jpg', 'dog.523.jpg', 'dog.524.jpg', 'dog.525.jpg', 'dog.526.jpg', 'dog.527.jpg', 'dog.528.jpg', 'dog.529.jpg', 'dog.53.jpg', 'dog.530.jpg', 'dog.531.jpg', 'dog.532.jpg', 'dog.533.jpg', 'dog.534.jpg', 'dog.535.jpg', 'dog.536.jpg', 'dog.537.jpg', 'dog.538.jpg', 'dog.539.jpg', 'dog.54.jpg', 'dog.540.jpg', 'dog.541.jpg', 'dog.542.jpg', 'dog.543.jpg', 'dog.544.jpg', 'dog.545.jpg', 'dog.546.jpg', 'dog.547.jpg', 'dog.548.jpg', 'dog.549.jpg', 'dog.55.jpg', 'dog.550.jpg', 'dog.551.jpg', 'dog.552.jpg', 'dog.553.jpg', 'dog.554.jpg', 'dog.555.jpg', 'dog.556.jpg', 'dog.557.jpg', 'dog.558.jpg', 'dog.559.jpg', 'dog.56.jpg', 'dog.560.jpg', 'dog.561.jpg', 'dog.562.jpg', 'dog.563.jpg', 'dog.564.jpg', 'dog.565.jpg', 'dog.566.jpg', 'dog.567.jpg', 'dog.568.jpg', 'dog.569.jpg', 'dog.57.jpg', 'dog.570.jpg', 'dog.571.jpg', 'dog.572.jpg', 'dog.573.jpg', 'dog.574.jpg', 'dog.575.jpg', 'dog.576.jpg', 'dog.577.jpg', 'dog.578.jpg', 'dog.579.jpg', 'dog.58.jpg', 'dog.580.jpg', 'dog.581.jpg', 'dog.582.jpg', 'dog.583.jpg', 'dog.584.jpg', 'dog.585.jpg', 'dog.586.jpg', 'dog.587.jpg', 'dog.588.jpg', 'dog.589.jpg', 'dog.59.jpg', 'dog.590.jpg', 'dog.591.jpg', 'dog.592.jpg', 'dog.593.jpg', 'dog.594.jpg', 'dog.595.jpg', 'dog.596.jpg', 'dog.597.jpg', 'dog.598.jpg', 'dog.599.jpg', 'dog.6.jpg', 'dog.60.jpg', 'dog.600.jpg', 'dog.601.jpg', 'dog.602.jpg', 'dog.603.jpg', 'dog.604.jpg', 'dog.605.jpg', 'dog.606.jpg', 'dog.607.jpg', 'dog.608.jpg', 'dog.609.jpg', 'dog.61.jpg', 'dog.610.jpg', 'dog.611.jpg', 'dog.612.jpg', 'dog.613.jpg', 'dog.614.jpg', 'dog.615.jpg', 'dog.616.jpg', 'dog.617.jpg', 'dog.618.jpg', 'dog.619.jpg', 'dog.62.jpg', 'dog.620.jpg', 'dog.621.jpg', 'dog.622.jpg', 'dog.623.jpg', 'dog.624.jpg', 'dog.625.jpg', 'dog.626.jpg', 'dog.627.jpg', 'dog.628.jpg', 'dog.629.jpg', 'dog.63.jpg', 'dog.630.jpg', 'dog.631.jpg', 'dog.632.jpg', 'dog.633.jpg', 'dog.634.jpg', 'dog.635.jpg', 'dog.636.jpg', 'dog.637.jpg', 'dog.638.jpg', 'dog.639.jpg', 'dog.64.jpg', 'dog.640.jpg', 'dog.641.jpg', 'dog.642.jpg', 'dog.643.jpg', 'dog.644.jpg', 'dog.645.jpg', 'dog.646.jpg', 'dog.647.jpg', 'dog.648.jpg', 'dog.649.jpg', 'dog.65.jpg', 'dog.650.jpg', 'dog.651.jpg', 'dog.652.jpg', 'dog.653.jpg', 'dog.654.jpg', 'dog.655.jpg', 'dog.656.jpg', 'dog.657.jpg', 'dog.658.jpg', 'dog.659.jpg', 'dog.66.jpg', 'dog.660.jpg', 'dog.661.jpg', 'dog.662.jpg', 'dog.663.jpg', 'dog.664.jpg', 'dog.665.jpg', 'dog.666.jpg', 'dog.667.jpg', 'dog.668.jpg', 'dog.669.jpg', 'dog.67.jpg', 'dog.670.jpg', 'dog.671.jpg', 'dog.672.jpg', 'dog.673.jpg', 'dog.674.jpg', 'dog.675.jpg', 'dog.676.jpg', 'dog.677.jpg', 'dog.678.jpg', 'dog.679.jpg', 'dog.68.jpg', 'dog.680.jpg', 'dog.681.jpg', 'dog.682.jpg', 'dog.683.jpg', 'dog.684.jpg', 'dog.685.jpg', 'dog.686.jpg', 'dog.687.jpg', 'dog.688.jpg', 'dog.689.jpg', 'dog.69.jpg', 'dog.690.jpg', 'dog.691.jpg', 'dog.692.jpg', 'dog.693.jpg', 'dog.694.jpg', 'dog.695.jpg', 'dog.696.jpg', 'dog.697.jpg', 'dog.698.jpg', 'dog.699.jpg', 'dog.7.jpg', 'dog.70.jpg', 'dog.700.jpg', 'dog.701.jpg', 'dog.702.jpg', 'dog.703.jpg', 'dog.704.jpg', 'dog.705.jpg', 'dog.706.jpg', 'dog.707.jpg', 'dog.708.jpg', 'dog.709.jpg', 'dog.71.jpg', 'dog.710.jpg', 'dog.711.jpg', 'dog.712.jpg', 'dog.713.jpg', 'dog.714.jpg', 'dog.715.jpg', 'dog.716.jpg', 'dog.717.jpg', 'dog.718.jpg', 'dog.719.jpg', 'dog.72.jpg', 'dog.720.jpg', 'dog.721.jpg', 'dog.722.jpg', 'dog.723.jpg', 'dog.724.jpg', 'dog.725.jpg', 'dog.726.jpg', 'dog.727.jpg', 'dog.728.jpg', 'dog.729.jpg', 'dog.73.jpg', 'dog.730.jpg', 'dog.731.jpg', 'dog.732.jpg', 'dog.733.jpg', 'dog.734.jpg', 'dog.735.jpg', 'dog.736.jpg', 'dog.737.jpg', 'dog.738.jpg', 'dog.739.jpg', 'dog.74.jpg', 'dog.740.jpg', 'dog.741.jpg', 'dog.742.jpg', 'dog.743.jpg', 'dog.744.jpg', 'dog.745.jpg', 'dog.746.jpg', 'dog.747.jpg', 'dog.748.jpg', 'dog.749.jpg', 'dog.75.jpg', 'dog.750.jpg', 'dog.751.jpg', 'dog.752.jpg', 'dog.753.jpg', 'dog.754.jpg', 'dog.755.jpg', 'dog.756.jpg', 'dog.757.jpg', 'dog.758.jpg', 'dog.759.jpg', 'dog.76.jpg', 'dog.760.jpg', 'dog.761.jpg', 'dog.762.jpg', 'dog.763.jpg', 'dog.764.jpg', 'dog.765.jpg', 'dog.766.jpg', 'dog.767.jpg', 'dog.768.jpg', 'dog.769.jpg', 'dog.77.jpg', 'dog.770.jpg', 'dog.771.jpg', 'dog.772.jpg', 'dog.773.jpg', 'dog.774.jpg', 'dog.775.jpg', 'dog.776.jpg', 'dog.777.jpg', 'dog.778.jpg', 'dog.779.jpg', 'dog.78.jpg', 'dog.780.jpg', 'dog.781.jpg', 'dog.782.jpg', 'dog.783.jpg', 'dog.784.jpg', 'dog.785.jpg', 'dog.786.jpg', 'dog.787.jpg', 'dog.788.jpg', 'dog.789.jpg', 'dog.79.jpg', 'dog.790.jpg', 'dog.791.jpg', 'dog.792.jpg', 'dog.793.jpg', 'dog.794.jpg', 'dog.795.jpg', 'dog.796.jpg', 'dog.797.jpg', 'dog.798.jpg', 'dog.799.jpg', 'dog.8.jpg', 'dog.80.jpg', 'dog.800.jpg', 'dog.801.jpg', 'dog.802.jpg', 'dog.803.jpg', 'dog.804.jpg', 'dog.805.jpg', 'dog.806.jpg', 'dog.807.jpg', 'dog.808.jpg', 'dog.809.jpg', 'dog.81.jpg', 'dog.810.jpg', 'dog.811.jpg', 'dog.812.jpg', 'dog.813.jpg', 'dog.814.jpg', 'dog.815.jpg', 'dog.816.jpg', 'dog.817.jpg', 'dog.818.jpg', 'dog.819.jpg', 'dog.82.jpg', 'dog.820.jpg', 'dog.821.jpg', 'dog.822.jpg', 'dog.823.jpg', 'dog.824.jpg', 'dog.825.jpg', 'dog.826.jpg', 'dog.827.jpg', 'dog.828.jpg', 'dog.829.jpg', 'dog.83.jpg', 'dog.830.jpg', 'dog.831.jpg', 'dog.832.jpg', 'dog.833.jpg', 'dog.834.jpg', 'dog.835.jpg', 'dog.836.jpg', 'dog.837.jpg', 'dog.838.jpg', 'dog.839.jpg', 'dog.84.jpg', 'dog.840.jpg', 'dog.841.jpg', 'dog.842.jpg', 'dog.843.jpg', 'dog.844.jpg', 'dog.845.jpg', 'dog.846.jpg', 'dog.847.jpg', 'dog.848.jpg', 'dog.849.jpg', 'dog.85.jpg', 'dog.850.jpg', 'dog.851.jpg', 'dog.852.jpg', 'dog.853.jpg', 'dog.854.jpg', 'dog.855.jpg', 'dog.856.jpg', 'dog.857.jpg', 'dog.858.jpg', 'dog.859.jpg', 'dog.86.jpg', 'dog.860.jpg', 'dog.861.jpg', 'dog.862.jpg', 'dog.863.jpg', 'dog.864.jpg', 'dog.865.jpg', 'dog.866.jpg', 'dog.867.jpg', 'dog.868.jpg', 'dog.869.jpg', 'dog.87.jpg', 'dog.870.jpg', 'dog.871.jpg', 'dog.872.jpg', 'dog.873.jpg', 'dog.874.jpg', 'dog.875.jpg', 'dog.876.jpg', 'dog.877.jpg', 'dog.878.jpg', 'dog.879.jpg', 'dog.88.jpg', 'dog.880.jpg', 'dog.881.jpg', 'dog.882.jpg', 'dog.883.jpg', 'dog.884.jpg', 'dog.885.jpg', 'dog.886.jpg', 'dog.887.jpg', 'dog.888.jpg', 'dog.889.jpg', 'dog.89.jpg', 'dog.890.jpg', 'dog.891.jpg', 'dog.892.jpg', 'dog.893.jpg', 'dog.894.jpg', 'dog.895.jpg', 'dog.896.jpg', 'dog.897.jpg', 'dog.898.jpg', 'dog.899.jpg', 'dog.9.jpg', 'dog.90.jpg', 'dog.900.jpg', 'dog.901.jpg', 'dog.902.jpg', 'dog.903.jpg', 'dog.904.jpg', 'dog.905.jpg', 'dog.906.jpg', 'dog.907.jpg', 'dog.908.jpg', 'dog.909.jpg', 'dog.91.jpg', 'dog.910.jpg', 'dog.911.jpg', 'dog.912.jpg', 'dog.913.jpg', 'dog.914.jpg', 'dog.915.jpg', 'dog.916.jpg', 'dog.917.jpg', 'dog.918.jpg', 'dog.919.jpg', 'dog.92.jpg', 'dog.920.jpg', 'dog.921.jpg', 'dog.922.jpg', 'dog.923.jpg', 'dog.924.jpg', 'dog.925.jpg', 'dog.926.jpg', 'dog.927.jpg', 'dog.928.jpg', 'dog.929.jpg', 'dog.93.jpg', 'dog.930.jpg', 'dog.931.jpg', 'dog.932.jpg', 'dog.933.jpg', 'dog.934.jpg', 'dog.935.jpg', 'dog.936.jpg', 'dog.937.jpg', 'dog.938.jpg', 'dog.939.jpg', 'dog.94.jpg', 'dog.940.jpg', 'dog.941.jpg', 'dog.942.jpg', 'dog.943.jpg', 'dog.944.jpg', 'dog.945.jpg', 'dog.946.jpg', 'dog.947.jpg', 'dog.948.jpg', 'dog.949.jpg', 'dog.95.jpg', 'dog.950.jpg', 'dog.951.jpg', 'dog.952.jpg', 'dog.953.jpg', 'dog.954.jpg', 'dog.955.jpg', 'dog.956.jpg', 'dog.957.jpg', 'dog.958.jpg', 'dog.959.jpg', 'dog.96.jpg', 'dog.960.jpg', 'dog.961.jpg', 'dog.962.jpg', 'dog.963.jpg', 'dog.964.jpg', 'dog.965.jpg', 'dog.966.jpg', 'dog.967.jpg', 'dog.968.jpg', 'dog.969.jpg', 'dog.97.jpg', 'dog.970.jpg', 'dog.971.jpg', 'dog.972.jpg', 'dog.973.jpg', 'dog.974.jpg', 'dog.975.jpg', 'dog.976.jpg', 'dog.977.jpg', 'dog.978.jpg', 'dog.979.jpg', 'dog.98.jpg', 'dog.980.jpg', 'dog.981.jpg', 'dog.982.jpg', 'dog.983.jpg', 'dog.984.jpg', 'dog.985.jpg', 'dog.986.jpg', 'dog.987.jpg', 'dog.988.jpg', 'dog.989.jpg', 'dog.99.jpg', 'dog.990.jpg', 'dog.991.jpg', 'dog.992.jpg', 'dog.993.jpg', 'dog.994.jpg', 'dog.995.jpg', 'dog.996.jpg', 'dog.997.jpg', 'dog.998.jpg', 'dog.999.jpg']\n"
    }
   ],
   "source": [
    "## Get filenames \n",
    "from os import listdir\n",
    "from os.path import isfile,join\n",
    "\n",
    "mypath = r'..\\'\n",
    "file_names = [f for f in listdir(mypath) if isfile(join(mypath,f))]\n",
    "print(file_names)"
   ]
  },
  {
   "cell_type": "code",
   "execution_count": 10,
   "metadata": {
    "tags": [
     "outputPrepend"
    ]
   },
   "outputs": [
    {
     "output_type": "stream",
     "name": "stdout",
     "text": "jpg\n..\\dog.777.jpg\n..\\dog.778.jpg\n..\\dog.779.jpg\n..\\dog.78.jpg\n..\\dog.780.jpg\n..\\dog.781.jpg\n..\\dog.782.jpg\n..\\dog.783.jpg\n..\\dog.784.jpg\n..\\dog.785.jpg\n..\\dog.786.jpg\n..\\dog.787.jpg\n..\\dog.788.jpg\n..\\dog.789.jpg\n..\\dog.79.jpg\n..\\dog.790.jpg\n..\\dog.791.jpg\n..\\dog.792.jpg\n..\\dog.793.jpg\n..\\dog.794.jpg\n..\\dog.795.jpg\n..\\dog.796.jpg\n..\\dog.797.jpg\n..\\dog.798.jpg\n..\\dog.799.jpg\n..\\dog.8.jpg\n..\\dog.80.jpg\n..\\dog.800.jpg\n..\\dog.801.jpg\n..\\dog.802.jpg\n..\\dog.803.jpg\n..\\dog.804.jpg\n..\\dog.805.jpg\n..\\dog.806.jpg\n..\\dog.807.jpg\n..\\dog.808.jpg\n..\\dog.809.jpg\n..\\dog.81.jpg\n..\\dog.810.jpg\n..\\dog.811.jpg\n..\\dog.812.jpg\n..\\dog.813.jpg\n..\\dog.814.jpg\n..\\dog.815.jpg\n..\\dog.816.jpg\n..\\dog.817.jpg\n..\\dog.818.jpg\n..\\dog.819.jpg\n..\\dog.82.jpg\n..\\dog.820.jpg\n..\\dog.821.jpg\n..\\dog.822.jpg\n..\\dog.823.jpg\n..\\dog.824.jpg\n..\\dog.825.jpg\n..\\dog.826.jpg\n..\\dog.827.jpg\n..\\dog.828.jpg\n..\\dog.829.jpg\n..\\dog.83.jpg\n..\\dog.830.jpg\n..\\dog.831.jpg\n..\\dog.832.jpg\n..\\dog.833.jpg\n..\\dog.834.jpg\n..\\dog.835.jpg\n..\\dog.836.jpg\n..\\dog.837.jpg\n..\\dog.838.jpg\n..\\dog.839.jpg\n..\\dog.84.jpg\n..\\dog.840.jpg\n..\\dog.841.jpg\n..\\dog.842.jpg\n..\\dog.843.jpg\n..\\dog.844.jpg\n..\\dog.845.jpg\n..\\dog.846.jpg\n..\\dog.847.jpg\n..\\dog.848.jpg\n..\\dog.849.jpg\n..\\dog.85.jpg\n..\\dog.850.jpg\n..\\dog.851.jpg\n..\\dog.852.jpg\n..\\dog.853.jpg\n..\\dog.854.jpg\n..\\dog.855.jpg\n..\\dog.856.jpg\n..\\dog.857.jpg\n..\\dog.858.jpg\n..\\dog.859.jpg\n..\\dog.86.jpg\n..\\dog.860.jpg\n..\\dog.861.jpg\n..\\dog.862.jpg\n..\\dog.863.jpg\n..\\dog.864.jpg\n..\\dog.865.jpg\n..\\dog.866.jpg\n..\\dog.867.jpg\n..\\dog.868.jpg\n..\\dog.869.jpg\n..\\dog.87.jpg\n..\\dog.870.jpg\n..\\dog.871.jpg\n..\\dog.872.jpg\n..\\dog.873.jpg\n..\\dog.874.jpg\n..\\dog.875.jpg\n..\\dog.876.jpg\n..\\dog.877.jpg\n..\\dog.878.jpg\n..\\dog.879.jpg\n..\\dog.88.jpg\n..\\dog.880.jpg\n..\\dog.881.jpg\n..\\dog.882.jpg\n..\\dog.883.jpg\n..\\dog.884.jpg\n..\\dog.885.jpg\n..\\dog.886.jpg\n..\\dog.887.jpg\n..\\dog.888.jpg\n..\\dog.889.jpg\n..\\dog.89.jpg\n..\\dog.890.jpg\n..\\dog.891.jpg\n..\\dog.892.jpg\n..\\dog.893.jpg\n..\\dog.894.jpg\n..\\dog.895.jpg\n..\\dog.896.jpg\n..\\dog.897.jpg\n..\\dog.898.jpg\n..\\dog.899.jpg\n..\\dog.9.jpg\n..\\dog.90.jpg\n..\\dog.900.jpg\n..\\dog.901.jpg\n..\\dog.902.jpg\n..\\dog.903.jpg\n..\\dog.904.jpg\n..\\dog.905.jpg\n..\\dog.906.jpg\n..\\dog.907.jpg\n..\\dog.908.jpg\n..\\dog.909.jpg\n..\\dog.91.jpg\n..\\dog.910.jpg\n..\\dog.911.jpg\n..\\dog.912.jpg\n..\\dog.913.jpg\n..\\dog.914.jpg\n..\\dog.915.jpg\n..\\dog.916.jpg\n..\\dog.917.jpg\n..\\dog.918.jpg\n..\\dog.919.jpg\n..\\dog.92.jpg\n..\\dog.920.jpg\n..\\dog.921.jpg\n..\\dog.922.jpg\n..\\dog.923.jpg\n..\\dog.924.jpg\n..\\dog.925.jpg\n..\\dog.926.jpg\n..\\dog.927.jpg\n..\\dog.928.jpg\n..\\dog.929.jpg\n..\\dog.93.jpg\n..\\dog.930.jpg\n..\\dog.931.jpg\n..\\dog.932.jpg\n..\\dog.933.jpg\n..\\dog.934.jpg\n..\\dog.935.jpg\n..\\dog.936.jpg\n..\\dog.937.jpg\n..\\dog.938.jpg\n..\\dog.939.jpg\n..\\dog.94.jpg\n..\\dog.940.jpg\n..\\dog.941.jpg\n..\\dog.942.jpg\n..\\dog.943.jpg\n..\\dog.944.jpg\n..\\dog.945.jpg\n..\\dog.946.jpg\n..\\dog.947.jpg\n..\\dog.948.jpg\n..\\dog.949.jpg\n..\\dog.95.jpg\n..\\dog.950.jpg\n..\\dog.951.jpg\n..\\dog.952.jpg\n..\\dog.953.jpg\n..\\dog.954.jpg\n..\\dog.955.jpg\n..\\dog.956.jpg\n..\\dog.957.jpg\n..\\dog.958.jpg\n..\\dog.959.jpg\n..\\dog.96.jpg\n..\\dog.960.jpg\n..\\dog.961.jpg\n..\\dog.962.jpg\n..\\dog.963.jpg\n..\\dog.964.jpg\n..\\dog.965.jpg\n..\\dog.966.jpg\n..\\dog.967.jpg\n..\\dog.968.jpg\n..\\dog.969.jpg\n..\\dog.97.jpg\n..\\dog.970.jpg\n..\\dog.971.jpg\n..\\dog.972.jpg\n..\\dog.973.jpg\n..\\dog.974.jpg\n..\\dog.975.jpg\n..\\dog.976.jpg\n..\\dog.977.jpg\n..\\dog.978.jpg\n..\\dog.979.jpg\n..\\dog.98.jpg\n..\\dog.980.jpg\n..\\dog.981.jpg\n..\\dog.982.jpg\n..\\dog.983.jpg\n..\\dog.984.jpg\n..\\dog.985.jpg\n..\\dog.986.jpg\n..\\dog.987.jpg\n..\\dog.988.jpg\n..\\dog.989.jpg\n..\\dog.99.jpg\n..\\dog.990.jpg\n..\\dog.991.jpg\n..\\dog.992.jpg\n..\\dog.993.jpg\n..\\dog.994.jpg\n..\\dog.995.jpg\n..\\dog.996.jpg\n..\\dog.997.jpg\n..\\dog.998.jpg\n..\\dog.999.jpg\nsplit complete\n"
    }
   ],
   "source": [
    "## Splitting\n",
    "import cv2\n",
    "import numpy as np\n",
    "import sys\n",
    "import shutil\n",
    "\n",
    "dog_count = 0\n",
    "cat_count =0\n",
    "training_size = 1000\n",
    "test_size = 500\n",
    "\n",
    "training_image = []\n",
    "training_label = []\n",
    "test_image = []\n",
    "test_label = []\n",
    "size = 150\n",
    "\n",
    "dog_train = r'..dog\\\\'\n",
    "cat_train = r'..cat\\\\'\n",
    "dog_test = r'..\\test\\dog\\\\'\n",
    "cat_test = r'..\\test\\cat\\\\'\n",
    "\n",
    "def make_directory(directory):\n",
    "    if os.path.exists(directory):\n",
    "        shutil.rmtree(directory)\n",
    "    os.makedirs(directory)\n",
    "\n",
    "make_directory(dog_train)\n",
    "make_directory(cat_train)\n",
    "make_directory(dog_test)\n",
    "make_directory(cat_test)\n",
    "\n",
    "def getZero(number):\n",
    "    if (number>10 and number<100):\n",
    "        return \"0\"\n",
    "    if (number<10):\n",
    "        return \"00\"\n",
    "    else:\n",
    "        return \"\"\n",
    "\n",
    "for i,file in enumerate(file_names):\n",
    "    print(mypath+file)\n",
    "    if file_names[i][0] ==\"d\":\n",
    "        dog_count+=1\n",
    "        image = cv2.imread(mypath+file)\n",
    "        image = cv2.resize(image,(size,size),interpolation=cv2.INTER_AREA)\n",
    "        if dog_count<=training_size:\n",
    "            training_image.append(image)\n",
    "            training_label.append(1)\n",
    "            zeros = getZero(dog_count)\n",
    "            cv2.imwrite(dog_train+\"dog\"+str(zeros)+str(dog_count)+\".jpg\",image)\n",
    "        if dog_count>training_size and dog_count<=training_size+test_size:\n",
    "            test_image.append(image)\n",
    "            test_label.append(1)\n",
    "            cv2.imwrite(dog_test+\"dog\"+str(zeros)+str(dog_count-1000)+\".jpg\",image)\n",
    "    if file_names[i][0] ==\"c\":\n",
    "        cat_count+=1\n",
    "        image = cv2.imread(mypath+file)\n",
    "        image = cv2.resize(image,(size,size),interpolation=cv2.INTER_AREA)\n",
    "        if dog_count<=training_size:\n",
    "            training_image.append(image)\n",
    "            training_label.append(0)\n",
    "            zeros = getZero(cat_count)\n",
    "            cv2.imwrite(cat_train+\"cat\"+str(zeros)+str(cat_count)+\".jpg\",image)\n",
    "        if cat_count>training_size and cat_count<=training_size+test_size:\n",
    "            test_image.append(image)\n",
    "            test_label.append(1)\n",
    "            cv2.imwrite(cat_test+\"dog\"+str(zeros)+str(cat_count-1000)+\".jpg\",image)\n",
    "\n",
    "    if dog_count == training_size+test_size and cat_count == training_size+test_size:\n",
    "        break\n",
    "print('split complete')\n",
    "                     "
   ]
  },
  {
   "cell_type": "code",
   "execution_count": 11,
   "metadata": {},
   "outputs": [],
   "source": [
    "## Saving images as numpy arrays\n",
    "np.savez('cat_vs_dog_training.npz',np.array(training_image))\n",
    "np.savez('cat_vs_dog_train_label.npz',np.array(training_label))\n",
    "np.savez('cat_vs_dog_testing.npz',np.array(test_image))\n",
    "np.savez('cat_vs_dog_test_label.npz',np.array(test_label))"
   ]
  },
  {
   "cell_type": "code",
   "execution_count": 12,
   "metadata": {},
   "outputs": [],
   "source": [
    "## Loading the images from NPZ arrays\n",
    "def load_data(dataset):\n",
    "    npz = np.load(dataset+'_training.npz')\n",
    "    train = npz['arr_0']\n",
    "    npz = np.load(dataset+'_train_label.npz')\n",
    "    train_label = npz['arr_0']\n",
    "    npz = np.load(dataset+'_testing.npz')\n",
    "    test = npz['arr_0']\n",
    "    npz = np.load(dataset+'_test_label.npz')\n",
    "    test_label = npz['arr_0']\n",
    "\n",
    "    return (train,train_label),(test,test_label)\n",
    "    "
   ]
  },
  {
   "cell_type": "code",
   "execution_count": null,
   "metadata": {},
   "outputs": [],
   "source": [
    "## Building the classifier\n"
   ]
  }
 ]
}