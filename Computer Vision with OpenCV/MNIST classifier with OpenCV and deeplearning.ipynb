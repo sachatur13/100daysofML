{
 "metadata": {
  "language_info": {
   "codemirror_mode": {
    "name": "ipython",
    "version": 3
   },
   "file_extension": ".py",
   "mimetype": "text/x-python",
   "name": "python",
   "nbconvert_exporter": "python",
   "pygments_lexer": "ipython3",
   "version": "3.7.4-final"
  },
  "orig_nbformat": 2,
  "kernelspec": {
   "name": "python3",
   "display_name": "Python 3"
  }
 },
 "nbformat": 4,
 "nbformat_minor": 2,
 "cells": [
  {
   "cell_type": "code",
   "execution_count": 1,
   "metadata": {},
   "outputs": [],
   "source": [
    "import numpy as np\n",
    "import cv2"
   ]
  },
  {
   "cell_type": "code",
   "execution_count": 2,
   "metadata": {},
   "outputs": [],
   "source": [
    "def x_cord_contour(contour):\n",
    "    # This function take a contour from findContours\n",
    "    # it then outputs the x centroid coordinates\n",
    "    M = cv2.moments(contour)\n",
    "    return (int(M['m10']/M['m00']))\n",
    "\n",
    "\n",
    "def makeSquare(not_square):\n",
    "    # This function takes an image and makes the dimenions square\n",
    "    # It adds black pixels as the padding where needed\n",
    "\n",
    "    BLACK = [0,0,0]\n",
    "    img_dim = not_square.shape\n",
    "    height = img_dim[0]\n",
    "    width = img_dim[1]\n",
    "    #print(\"Height = \", height, \"Width = \", width)\n",
    "    if (height == width):\n",
    "        square = not_square\n",
    "        return square\n",
    "    else:\n",
    "        doublesize = cv2.resize(not_square,(2*width, 2*height), interpolation = cv2.INTER_CUBIC)\n",
    "        height = height * 2\n",
    "        width = width * 2\n",
    "        #print(\"New Height = \", height, \"New Width = \", width)\n",
    "        if (height > width):\n",
    "            pad = int((height - width)/2)\n",
    "            #print(\"Padding = \", pad)\n",
    "            doublesize_square = cv2.copyMakeBorder(doublesize,0,0,pad,pad,cv2.BORDER_CONSTANT,value=BLACK)\n",
    "        else:\n",
    "            pad = int((width - height)/2)\n",
    "            print(\"Padding = \", pad)\n",
    "            doublesize_square = cv2.copyMakeBorder(doublesize,pad,pad,0,0,                       cv2.BORDER_CONSTANT,value=BLACK)\n",
    "    doublesize_square_dim = doublesize_square.shape\n",
    "    #print(\"Sq Height = \", doublesize_square_dim[0], \"Sq Width = \", doublesize_square_dim[1])\n",
    "    return doublesize_square\n",
    "\n",
    "\n",
    "def resize_to_pixel(dimensions, image):\n",
    "    # This function then re-sizes an image to the specificied dimenions\n",
    "\n",
    "    buffer_pix = 4\n",
    "    dimensions  = dimensions - buffer_pix\n",
    "    squared = image\n",
    "    r = float(dimensions) / squared.shape[1]\n",
    "    dim = (dimensions, int(squared.shape[0] * r))\n",
    "    resized = cv2.resize(image, dim, interpolation = cv2.INTER_AREA)\n",
    "    img_dim2 = resized.shape\n",
    "    height_r = img_dim2[0]\n",
    "    width_r = img_dim2[1]\n",
    "    BLACK = [0,0,0]\n",
    "    if (height_r > width_r):\n",
    "        resized = cv2.copyMakeBorder(resized,0,0,0,1,cv2.BORDER_CONSTANT,value=BLACK)\n",
    "    if (height_r < width_r):\n",
    "        resized = cv2.copyMakeBorder(resized,1,0,0,0,cv2.BORDER_CONSTANT,value=BLACK)\n",
    "    p = 2\n",
    "    ReSizedImg = cv2.copyMakeBorder(resized,p,p,p,p,cv2.BORDER_CONSTANT,value=BLACK)\n",
    "    img_dim = ReSizedImg.shape\n",
    "    height = img_dim[0]\n",
    "    width = img_dim[1]\n",
    "    #print(\"Padded Height = \", height, \"Width = \", width)\n",
    "    return ReSizedImg\n"
   ]
  },
  {
   "cell_type": "code",
   "execution_count": 3,
   "metadata": {},
   "outputs": [],
   "source": [
    "from tensorflow.keras.datasets import mnist\n",
    "from tensorflow.keras.models import load_model\n",
    "classifier = load_model(r'mnist_simple_cnn.h5')"
   ]
  },
  {
   "cell_type": "code",
   "execution_count": 4,
   "metadata": {},
   "outputs": [],
   "source": [
    "(x_train,y_train),(x_test,y_test) = mnist.load_data()\n"
   ]
  },
  {
   "cell_type": "code",
   "execution_count": null,
   "metadata": {
    "tags": []
   },
   "outputs": [],
   "source": [
    "def test(name,prediction,input_image):\n",
    "    black = [0,0,0]\n",
    "    expand = cv2.copyMakeBorder(input_image,0,0,0,imageL.shape[0],cv2.BORDER_CONSTANT,value = black)\n",
    "    expand = cv2.cvtColor(expand,cv2.COLOR_GRAY2BGR)\n",
    "    cv2.putText(expand,str(prediction),(152,70),cv2.FONT_HERSHEY_COMPLEX,4,(0,255,0),2)\n",
    "    cv2.imshow(name,expand)\n",
    "\n",
    "for i in range(0,10):\n",
    "    rand = np.random.randint(0,len(x_test))\n",
    "    input_image = x_test[rand]\n",
    "    input_image = np.float32(input_image)\n",
    "    \n",
    "    imageL = cv2.resize(input_image,None,fx = 4,fy = 4,interpolation= cv2.INTER_CUBIC)\n",
    "    input_image = input_image.reshape(1,28,28,1)\n",
    "    \n",
    "    ## Predictions\n",
    "    res = str(classifier.predict_classes(input_image,1,verbose = 0)[0])\n",
    "    test(\"prediction: \",res,imageL)\n",
    "\n"
   ]
  },
  {
   "cell_type": "code",
   "execution_count": 57,
   "metadata": {
    "tags": []
   },
   "outputs": [
    {
     "output_type": "error",
     "ename": "KeyboardInterrupt",
     "evalue": "",
     "traceback": [
      "\u001b[1;31m---------------------------------------------------------------------------\u001b[0m",
      "\u001b[1;31mKeyboardInterrupt\u001b[0m                         Traceback (most recent call last)",
      "\u001b[1;32m<ipython-input-57-b8dbc50256a8>\u001b[0m in \u001b[0;36m<module>\u001b[1;34m\u001b[0m\n\u001b[0;32m      4\u001b[0m \u001b[0mlower\u001b[0m \u001b[1;33m=\u001b[0m \u001b[0mnp\u001b[0m\u001b[1;33m.\u001b[0m\u001b[0marray\u001b[0m\u001b[1;33m(\u001b[0m\u001b[1;33m[\u001b[0m\u001b[1;36m250\u001b[0m\u001b[1;33m,\u001b[0m\u001b[1;36m100\u001b[0m\u001b[1;33m,\u001b[0m\u001b[1;36m100\u001b[0m\u001b[1;33m]\u001b[0m\u001b[1;33m)\u001b[0m\u001b[1;33m\u001b[0m\u001b[1;33m\u001b[0m\u001b[0m\n\u001b[0;32m      5\u001b[0m \u001b[1;32mwhile\u001b[0m \u001b[1;32mTrue\u001b[0m\u001b[1;33m:\u001b[0m\u001b[1;33m\u001b[0m\u001b[1;33m\u001b[0m\u001b[0m\n\u001b[1;32m----> 6\u001b[1;33m     \u001b[0mret\u001b[0m\u001b[1;33m,\u001b[0m\u001b[0mframe\u001b[0m \u001b[1;33m=\u001b[0m \u001b[0mcamera\u001b[0m\u001b[1;33m.\u001b[0m\u001b[0mread\u001b[0m\u001b[1;33m(\u001b[0m\u001b[1;33m)\u001b[0m\u001b[1;33m\u001b[0m\u001b[1;33m\u001b[0m\u001b[0m\n\u001b[0m\u001b[0;32m      7\u001b[0m     \u001b[0mframe2\u001b[0m \u001b[1;33m=\u001b[0m \u001b[0mcv2\u001b[0m\u001b[1;33m.\u001b[0m\u001b[0mresize\u001b[0m\u001b[1;33m(\u001b[0m\u001b[0mframe\u001b[0m\u001b[1;33m,\u001b[0m\u001b[1;33m(\u001b[0m\u001b[1;36m500\u001b[0m\u001b[1;33m,\u001b[0m\u001b[1;36m500\u001b[0m\u001b[1;33m)\u001b[0m\u001b[1;33m)\u001b[0m\u001b[1;33m\u001b[0m\u001b[1;33m\u001b[0m\u001b[0m\n\u001b[0;32m      8\u001b[0m     \u001b[0mgray\u001b[0m \u001b[1;33m=\u001b[0m \u001b[0mcv2\u001b[0m\u001b[1;33m.\u001b[0m\u001b[0mcvtColor\u001b[0m\u001b[1;33m(\u001b[0m\u001b[0mframe2\u001b[0m\u001b[1;33m,\u001b[0m\u001b[0mcv2\u001b[0m\u001b[1;33m.\u001b[0m\u001b[0mCOLOR_BGR2GRAY\u001b[0m\u001b[1;33m)\u001b[0m\u001b[1;33m\u001b[0m\u001b[1;33m\u001b[0m\u001b[0m\n",
      "\u001b[1;31mKeyboardInterrupt\u001b[0m: "
     ]
    }
   ],
   "source": [
    "camera = cv2.VideoCapture(1)\n",
    "\n",
    "upper = np.array([255,255,255])\n",
    "lower = np.array([250,100,100])\n",
    "while True:\n",
    "    ret,frame = camera.read()\n",
    "    frame2 = cv2.resize(frame,(500,500))\n",
    "    gray = cv2.cvtColor(frame2,cv2.COLOR_BGR2GRAY)\n",
    "    #gray2 = cv2.adaptiveThreshold(gray,255,cv2.ADAPTIVE_THRESH_MEAN_C,cv2.THRESH_BINARY,11,2)\n",
    "    ret,gray3 = cv2.threshold(gray.copy(),240,255,0)\n",
    "    mask = np.zeros(gray3.shape,np.uint8)\n",
    "    #cv2.imshow('result',result)\n",
    "    ##blurred = cv2.GaussianBlur(gray,(5,5),0)\n",
    "\n",
    "    ##edges = cv2.Canny(blurred,30,150)\n",
    "\n",
    "    ## Find contours\n",
    "    contours,_ = cv2.findContours(gray3.copy(),cv2.RETR_LIST,cv2.CHAIN_APPROX_SIMPLE)\n",
    "    for cnt in contours:\n",
    "        if 200<cv2.contourArea(cnt)<5000:\n",
    "            cv2.drawContours(frame2,[cnt],0,(0,255,0),2)\n",
    "            cv2.drawContours(mask,[cnt],0,255,-1)\n",
    "            cv2.imshow('frame',frame2)\n",
    "            cv2.imshow('mask',mask)\n",
    "            cv2.imshow('gray',gray2)\n",
    "\n",
    "    #if len(contours)>0:\n",
    "     #   contours = sorted(contours,key = x_cord_contour,reverse = False)\n",
    "        \n",
    "      #  number = []\n",
    "\n",
    "        #for i in contours:\n",
    "         #   (x,y,w,h) = cv2.boundingRect(i)\n",
    "        \n",
    "          #  if w>=5 and h>=25:\n",
    "         #       roi = blurred[y:y+h,x:x+w]\n",
    "          #      ret,roi = cv2.threshold(roi,127,255,cv2.THRESH_BINARY_INV)\n",
    "           #     roi = makeSquare(roi)\n",
    "            #    roi = resize_to_pixel(28,roi)                \n",
    "             #   roi = roi / 255.0\n",
    "              #  roi = roi.reshape(1,28,28,1)\n",
    "            # Prediction\n",
    "              #  pred = str(classifier.predict_classes(roi,1,verbose = 0)[0])\n",
    "               # cv2.rectangle(frame,(x,y),(x+w,y+h),(0,0,255),2)\n",
    "               # cv2.putText(frame,pred,(x,y+155),cv2.FONT_HERSHEY_COMPLEX,2,(244,0,0),2)\n",
    "               # cv2.imshow(\"number\",frame)\n",
    "                \n",
    "    \n",
    "    if cv2.waitKey(1) == 13:\n",
    "                break\n",
    "cv2.destroyAllWindows()\n",
    "camera.release()\n",
    "            "
   ]
  },
  {
   "cell_type": "code",
   "execution_count": 58,
   "metadata": {},
   "outputs": [],
   "source": [
    "camera.release()"
   ]
  },
  {
   "cell_type": "code",
   "execution_count": null,
   "metadata": {},
   "outputs": [],
   "source": []
  },
  {
   "cell_type": "code",
   "execution_count": null,
   "metadata": {},
   "outputs": [],
   "source": []
  }
 ]
}