{
 "metadata": {
  "language_info": {
   "codemirror_mode": {
    "name": "ipython",
    "version": 3
   },
   "file_extension": ".py",
   "mimetype": "text/x-python",
   "name": "python",
   "nbconvert_exporter": "python",
   "pygments_lexer": "ipython3",
   "version": "3.7.4-final"
  },
  "orig_nbformat": 2,
  "kernelspec": {
   "name": "python3",
   "display_name": "Python 3"
  }
 },
 "nbformat": 4,
 "nbformat_minor": 2,
 "cells": [
  {
   "cell_type": "code",
   "execution_count": 2,
   "metadata": {},
   "outputs": [],
   "source": [
    "import numpy as np\n",
    "import cv2"
   ]
  },
  {
   "cell_type": "code",
   "execution_count": 3,
   "metadata": {},
   "outputs": [],
   "source": [
    "def x_cord_contour(contour):\n",
    "    # This function take a contour from findContours\n",
    "    # it then outputs the x centroid coordinates\n",
    "    M = cv2.moments(contour)\n",
    "    return (int(M['m10']/M['m00']))\n",
    "\n",
    "\n",
    "def makeSquare(not_square):\n",
    "    # This function takes an image and makes the dimenions square\n",
    "    # It adds black pixels as the padding where needed\n",
    "\n",
    "    BLACK = [0,0,0]\n",
    "    img_dim = not_square.shape\n",
    "    height = img_dim[0]\n",
    "    width = img_dim[1]\n",
    "    #print(\"Height = \", height, \"Width = \", width)\n",
    "    if (height == width):\n",
    "        square = not_square\n",
    "        return square\n",
    "    else:\n",
    "        doublesize = cv2.resize(not_square,(2*width, 2*height), interpolation = cv2.INTER_CUBIC)\n",
    "        height = height * 2\n",
    "        width = width * 2\n",
    "        #print(\"New Height = \", height, \"New Width = \", width)\n",
    "        if (height > width):\n",
    "            pad = int((height - width)/2)\n",
    "            #print(\"Padding = \", pad)\n",
    "            doublesize_square = cv2.copyMakeBorder(doublesize,0,0,pad,pad,cv2.BORDER_CONSTANT,value=BLACK)\n",
    "        else:\n",
    "            pad = int((width - height)/2)\n",
    "            print(\"Padding = \", pad)\n",
    "            doublesize_square = cv2.copyMakeBorder(doublesize,pad,pad,0,0,                       cv2.BORDER_CONSTANT,value=BLACK)\n",
    "    doublesize_square_dim = doublesize_square.shape\n",
    "    #print(\"Sq Height = \", doublesize_square_dim[0], \"Sq Width = \", doublesize_square_dim[1])\n",
    "    return doublesize_square\n",
    "\n",
    "\n",
    "def resize_to_pixel(dimensions, image):\n",
    "    # This function then re-sizes an image to the specificied dimenions\n",
    "\n",
    "    buffer_pix = 4\n",
    "    dimensions  = dimensions - buffer_pix\n",
    "    squared = image\n",
    "    r = float(dimensions) / squared.shape[1]\n",
    "    dim = (dimensions, int(squared.shape[0] * r))\n",
    "    resized = cv2.resize(image, dim, interpolation = cv2.INTER_AREA)\n",
    "    img_dim2 = resized.shape\n",
    "    height_r = img_dim2[0]\n",
    "    width_r = img_dim2[1]\n",
    "    BLACK = [0,0,0]\n",
    "    if (height_r > width_r):\n",
    "        resized = cv2.copyMakeBorder(resized,0,0,0,1,cv2.BORDER_CONSTANT,value=BLACK)\n",
    "    if (height_r < width_r):\n",
    "        resized = cv2.copyMakeBorder(resized,1,0,0,0,cv2.BORDER_CONSTANT,value=BLACK)\n",
    "    p = 2\n",
    "    ReSizedImg = cv2.copyMakeBorder(resized,p,p,p,p,cv2.BORDER_CONSTANT,value=BLACK)\n",
    "    img_dim = ReSizedImg.shape\n",
    "    height = img_dim[0]\n",
    "    width = img_dim[1]\n",
    "    #print(\"Padded Height = \", height, \"Width = \", width)\n",
    "    return ReSizedImg\n"
   ]
  },
  {
   "cell_type": "code",
   "execution_count": 4,
   "metadata": {},
   "outputs": [],
   "source": [
    "from tensorflow.keras.datasets import mnist\n",
    "from tensorflow.keras.models import load_model\n",
    "classifier = load_model(r'C:\\Users\\saket\\Desktop\\courses\\DeepLearningCV\\Trained Models\\mnist_simple_cnn.h5')"
   ]
  },
  {
   "cell_type": "code",
   "execution_count": 5,
   "metadata": {},
   "outputs": [],
   "source": [
    "(x_train,y_train),(x_test,y_test) = mnist.load_data()\n"
   ]
  },
  {
   "cell_type": "code",
   "execution_count": null,
   "metadata": {
    "tags": []
   },
   "outputs": [],
   "source": [
    "def test(name,prediction,input_image):\n",
    "    black = [0,0,0]\n",
    "    expand = cv2.copyMakeBorder(input_image,0,0,0,imageL.shape[0],cv2.BORDER_CONSTANT,value = black)\n",
    "    expand = cv2.cvtColor(expand,cv2.COLOR_GRAY2BGR)\n",
    "    cv2.putText(expand,str(prediction),(152,70),cv2.FONT_HERSHEY_COMPLEX,4,(0,255,0),2)\n",
    "    cv2.imshow(name,expand)\n",
    "\n",
    "for i in range(0,10):\n",
    "    rand = np.random.randint(0,len(x_test))\n",
    "    input_image = x_test[rand]\n",
    "    input_image = np.float32(input_image)\n",
    "    \n",
    "    imageL = cv2.resize(input_image,None,fx = 4,fy = 4,interpolation= cv2.INTER_CUBIC)\n",
    "    input_image = input_image.reshape(1,28,28,1)\n",
    "    \n",
    "    ## Predictions\n",
    "    res = str(classifier.predict_classes(input_image,1,verbose = 0)[0])\n",
    "    test(\"prediction: \",res,imageL)\n",
    "\n"
   ]
  },
  {
   "cell_type": "code",
   "execution_count": 6,
   "metadata": {
    "tags": []
   },
   "outputs": [
    {
     "output_type": "stream",
     "name": "stdout",
     "text": "Padding =  47\nPadding =  16\nPadding =  12\nPadding =  27\nPadding = 48\nPadding =  3\nPadding =  27\nPadding =  2\nPadding =  13\nPadding =  5\nPadding =  29\nPadding =  35\nPadding =  14\nPadding = 28\nPadding = 2\nPadding =  3\nPadding =  17\nPadding =  27\nPadding =  5\nPadding =  28\nPadding =  1\nPadding =  5\nPadding =  13\nPadding =  20\nPadding =  2\nPadding =  27\nPadding =  48\nPadding =  4\nPadding =  2\n"
    }
   ],
   "source": [
    "camera = cv2.VideoCapture(1)\n",
    "\n",
    "while True:\n",
    "    ret,frame = camera.read()\n",
    "\n",
    "    gray = cv2.cvtColor(frame,cv2.COLOR_BGR2GRAY)\n",
    "    blurred = cv2.GaussianBlur(gray,(5,5),0)\n",
    "\n",
    "    edges = cv2.Canny(blurred,30,150)\n",
    "\n",
    "    ## Find contours\n",
    "    contours,_ = cv2.findContours(edges.copy(),cv2.RETR_EXTERNAL,cv2.CHAIN_APPROX_SIMPLE)\n",
    "    #print(contours)\n",
    "    if len(contours)>0:\n",
    "        #contours = sorted(contours,key = x_cord_contour,reverse = False)\n",
    "        \n",
    "        number = []\n",
    "\n",
    "        for i in contours:\n",
    "            (x,y,w,h) = cv2.boundingRect(i)\n",
    "        \n",
    "            if w>=5 and h>=25:\n",
    "                roi = blurred[y:y+h,x:x+w]\n",
    "                ret,roi = cv2.threshold(roi,127,255,cv2.THRESH_BINARY_INV)\n",
    "                roi = makeSquare(roi)\n",
    "                roi = resize_to_pixel(28,roi)                \n",
    "                roi = roi / 255.0\n",
    "                roi = roi.reshape(1,28,28,1)\n",
    "            # Prediction\n",
    "                pred = str(classifier.predict_classes(roi,1,verbose = 0)[0])\n",
    "                cv2.rectangle(frame,(x,y),(x+w,y+h),(0,0,255),2)\n",
    "                cv2.putText(frame,pred,(x,y+155),cv2.FONT_HERSHEY_COMPLEX,2,(244,0,0),2)\n",
    "                cv2.imshow(\"number\",frame)\n",
    "                \n",
    "    else:\n",
    "        cv2.imshow('frame',frame)\n",
    "    \n",
    "    if cv2.waitKey(1) == 13:\n",
    "                break\n",
    "cv2.destroyAllWindows()\n",
    "            "
   ]
  },
  {
   "cell_type": "code",
   "execution_count": 7,
   "metadata": {},
   "outputs": [],
   "source": [
    "camera.release()"
   ]
  },
  {
   "cell_type": "code",
   "execution_count": null,
   "metadata": {},
   "outputs": [],
   "source": []
  },
  {
   "cell_type": "code",
   "execution_count": null,
   "metadata": {},
   "outputs": [],
   "source": []
  }
 ]
}