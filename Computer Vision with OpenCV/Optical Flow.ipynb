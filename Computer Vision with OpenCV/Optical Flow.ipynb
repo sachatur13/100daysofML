{
 "metadata": {
  "language_info": {
   "codemirror_mode": {
    "name": "ipython",
    "version": 3
   },
   "file_extension": ".py",
   "mimetype": "text/x-python",
   "name": "python",
   "nbconvert_exporter": "python",
   "pygments_lexer": "ipython3",
   "version": "3.7.4-final"
  },
  "orig_nbformat": 2,
  "kernelspec": {
   "name": "python3",
   "display_name": "Python 3"
  }
 },
 "nbformat": 4,
 "nbformat_minor": 2,
 "cells": [
  {
   "cell_type": "code",
   "execution_count": 1,
   "metadata": {},
   "outputs": [],
   "source": [
    "import cv2 \n",
    "import numpy as np"
   ]
  },
  {
   "cell_type": "code",
   "execution_count": 4,
   "metadata": {},
   "outputs": [],
   "source": [
    "camera = cv2.VideoCapture(r'C:\\Users\\saket\\Desktop\\courses\\TF\\OpenCV\\Master OpenCV\\images\\walking.avi')\n",
    "\n",
    "feature_params = dict( maxCorners = 100,\n",
    "                        qualityLevel = 0.3\n",
    "                        ,minDistance = 7\n",
    "                        ,blockSize = 7)\n",
    "\n",
    "## Parameters for Lucas Kanade Method\n",
    "lucas_k = dict(winSize = (15,15)\n",
    ",maxLevel = 2\n",
    ",criteria = (cv2.TERM_CRITERIA_EPS|cv2.TERM_CRITERIA_COUNT, 10, 0.03))\n",
    "\n",
    "## Creating random colos\n",
    "color = np.random.randint(0,255,(100,3))\n",
    "\n",
    "## Taking first frame and get corners in it\n",
    "ret,prev_frame = camera.read()\n",
    "prev_gray = cv2.cvtColor(prev_frame,cv2.COLOR_BGR2GRAY)\n",
    "\n",
    "## Initial Corner locations\n",
    "prev_corners = cv2.goodFeaturesToTrack(prev_gray,mask = None,**feature_params)\n",
    "\n",
    "## Create mask\n",
    "mask = np.zeros_like(prev_frame)\n",
    "\n",
    "while True:\n",
    "    ret,frame = camera.read()\n",
    "    frame_gray = cv2.cvtColor(frame,cv2.COLOR_BGR2GRAY)\n",
    "\n",
    "    ## Calculate flow\n",
    "    new_corner,stats,errors = cv2.calcOpticalFlowPyrLK(prev_gray\n",
    "    ,frame_gray\n",
    "    ,prev_corners\n",
    "    ,None\n",
    "    ,**lucas_k)\n",
    "\n",
    "    ## Select and store good points\n",
    "    good_new = new_corner[stats==1]\n",
    "    good_old = prev_corners[stats==1]\n",
    "\n",
    "    ## Draw tracks\n",
    "    for i,(new,old) in enumerate(zip(good_new,good_old)):\n",
    "        a,b = new.ravel()\n",
    "        c,d = old.ravel()\n",
    "        mask = cv2.line(mask,(a,b),(c,d),color[i].tolist(),2)\n",
    "        frame = cv2.circle(frame,(a,b),5,color[i].tolist(),-1)\n",
    "\n",
    "    image = cv2.add(frame,mask)\n",
    "\n",
    "    ## Show flow\n",
    "    cv2.imshow('flow',image)\n",
    "    if cv2.waitKey(1) ==13:\n",
    "        break\n",
    "cv2.destroyAllWindows()\n",
    "camera.release()"
   ]
  },
  {
   "cell_type": "code",
   "execution_count": 3,
   "metadata": {},
   "outputs": [],
   "source": [
    "camera.release()"
   ]
  },
  {
   "cell_type": "code",
   "execution_count": null,
   "metadata": {},
   "outputs": [],
   "source": []
  }
 ]
}