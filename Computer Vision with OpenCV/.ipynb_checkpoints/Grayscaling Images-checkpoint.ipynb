{
 "cells": [
  {
   "cell_type": "code",
   "execution_count": 1,
   "metadata": {},
   "outputs": [],
   "source": [
    "import cv2"
   ]
  },
  {
   "cell_type": "code",
   "execution_count": 3,
   "metadata": {},
   "outputs": [
    {
     "data": {
      "text/plain": [
       "-1"
      ]
     },
     "execution_count": 3,
     "metadata": {},
     "output_type": "execute_result"
    }
   ],
   "source": [
    "data = cv2.imread(r'C:\\Users\\saket\\Desktop\\courses\\TF\\OpenCV\\Master OpenCV\\images\\input.jpg')\n",
    "cv2.imshow('Image',data)\n",
    "cv2.waitKey()"
   ]
  },
  {
   "cell_type": "code",
   "execution_count": 8,
   "metadata": {},
   "outputs": [],
   "source": [
    "## Converting to grayscale using cvtColor & COLOR_BGR2GRAY\n",
    "converted = cv2.cvtColor(data,cv2.COLOR_BGR2GRAY)\n",
    "cv2.imshow('gray',converted)\n",
    "cv2.waitKey()\n",
    "cv2.destroyAllWindows()"
   ]
  },
  {
   "cell_type": "code",
   "execution_count": 10,
   "metadata": {},
   "outputs": [
    {
     "name": "stdout",
     "output_type": "stream",
     "text": [
      "13 19 32\n"
     ]
    }
   ],
   "source": [
    "## Color spaces\n",
    "## BGR values\n",
    "B,G,R = data[10,50]\n",
    "print( B, G, R)"
   ]
  },
  {
   "cell_type": "code",
   "execution_count": 11,
   "metadata": {},
   "outputs": [
    {
     "name": "stdout",
     "output_type": "stream",
     "text": [
      "(830, 1245)\n"
     ]
    }
   ],
   "source": [
    "print(converted.shape)"
   ]
  },
  {
   "cell_type": "code",
   "execution_count": 12,
   "metadata": {},
   "outputs": [
    {
     "data": {
      "text/plain": [
       "22"
      ]
     },
     "execution_count": 12,
     "metadata": {},
     "output_type": "execute_result"
    }
   ],
   "source": [
    "converted[10,50]"
   ]
  },
  {
   "cell_type": "code",
   "execution_count": 14,
   "metadata": {},
   "outputs": [],
   "source": [
    "## HSV color space\n",
    "hsv = cv2.cvtColor(data,cv2.COLOR_BGR2HSV)\n",
    "cv2.imshow('hsv',hsv)\n",
    "cv2.imshow('hue',hsv[:,:,0])\n",
    "cv2.imshow('saturation',hsv[:,:,1])\n",
    "cv2.imshow('value channel',hsv[:,:,2])\n",
    "cv2.waitKey()\n",
    "cv2.destroyAllWindows()"
   ]
  },
  {
   "cell_type": "code",
   "execution_count": 15,
   "metadata": {},
   "outputs": [],
   "source": [
    "## Individual RGB channels"
   ]
  },
  {
   "cell_type": "code",
   "execution_count": 16,
   "metadata": {},
   "outputs": [],
   "source": [
    "## split the image into RGB channles\n",
    "B,G,R = cv2.split(data)\n",
    "cv2.imshow('Red',R)\n",
    "cv2.imshow('Blue',B)\n",
    "cv2.imshow('Green',G)\n",
    "cv2.waitKey()\n",
    "cv2.destroyAllWindows()"
   ]
  },
  {
   "cell_type": "code",
   "execution_count": 20,
   "metadata": {},
   "outputs": [],
   "source": [
    "## merging the color channels\n",
    "merged = cv2.merge([B,G+100,R+10])\n",
    "cv2.imshow('merged',merged)\n",
    "cv2.waitKey()\n",
    "cv2.destroyAllWindows()"
   ]
  },
  {
   "cell_type": "code",
   "execution_count": null,
   "metadata": {},
   "outputs": [],
   "source": []
  }
 ],
 "metadata": {
  "kernelspec": {
   "display_name": "Python 3",
   "language": "python",
   "name": "python3"
  },
  "language_info": {
   "codemirror_mode": {
    "name": "ipython",
    "version": 3
   },
   "file_extension": ".py",
   "mimetype": "text/x-python",
   "name": "python",
   "nbconvert_exporter": "python",
   "pygments_lexer": "ipython3",
   "version": "3.7.4"
  }
 },
 "nbformat": 4,
 "nbformat_minor": 2
}
