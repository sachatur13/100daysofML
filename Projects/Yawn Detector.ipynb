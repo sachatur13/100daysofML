{
 "cells": [
  {
   "cell_type": "code",
   "execution_count": 13,
   "metadata": {},
   "outputs": [],
   "source": [
    "import cv2\n",
    "import numpy as np\n",
    "import matplotlib.pyplot as plt\n",
    "import dlib"
   ]
  },
  {
   "cell_type": "code",
   "execution_count": 14,
   "metadata": {},
   "outputs": [],
   "source": [
    "## Import landmark model\n",
    "path = (r'C:\\Users\\saket\\Desktop\\courses\\TF\\OpenCV\\Master OpenCV\\shape_predictor_68_face_landmarks.dat')\n",
    "predictor = dlib.shape_predictor(path)\n",
    "detector = dlib.get_frontal_face_detector()"
   ]
  },
  {
   "cell_type": "code",
   "execution_count": 15,
   "metadata": {},
   "outputs": [],
   "source": [
    "## Functions to get and annotate landmarks\n",
    "def get_marks(image):\n",
    "    rect = detector(image,1)\n",
    "    if len(rect)>1:\n",
    "        return 'error'\n",
    "    if len(rect)==0:\n",
    "        return 'error'\n",
    "    return np.matrix([[p.x,p.y] for p in predictor(image,rect[0]).parts()])\n",
    "\n",
    "def annotate_marks_on_image(image,landmarks):\n",
    "    image_copy = image.copy()\n",
    "\n",
    "    for index,point in enumerate(landmarks):\n",
    "        position = (point[0,0],point[0,1])\n",
    "        cv2.putText(image,str(index),position,fontFace= cv2.FONT_HERSHEY_COMPLEX,fontScale = 0.5,color = (0,255,0))\n",
    "        cv2.circle(image,position,3,color = (0,255,0))\n",
    "    return image"
   ]
  },
  {
   "cell_type": "code",
   "execution_count": 19,
   "metadata": {},
   "outputs": [],
   "source": [
    "## Functions to extract top lip and bottom lip\n",
    "def get_top_lip(landmarks):\n",
    "    top = []\n",
    "    for i in range(50,53):\n",
    "        top.append(landmarks[i])\n",
    "    for i in range(61,64):\n",
    "        top.append(landmarks[i])\n",
    "    top_lip_pts = np.squeeze(np.asarray(top))\n",
    "    top_lip_mean = np.mean(top_lip_pts,axis=0)\n",
    "    \n",
    "    return int(top_lip_mean[1])\n",
    "\n",
    "def get_bottom_lip(landmarks):\n",
    "    bottom = []\n",
    "    for i in range(65,68):\n",
    "        bottom.append(landmarks[i])\n",
    "    for i in range(56,59):\n",
    "        bottom.append(landmarks[i])\n",
    "    bottom_lip_pts = np.squeeze(np.asarray(bottom))\n",
    "    bottom_lip_mean = np.mean(bottom_lip_pts,axis=0)\n",
    "    \n",
    "    return int(bottom_lip_mean[1])\n"
   ]
  },
  {
   "cell_type": "code",
   "execution_count": 17,
   "metadata": {},
   "outputs": [],
   "source": [
    "## Return distance between lips to identify if the mouth is open\n",
    "def open(image):\n",
    "    landmarks = get_marks(image)\n",
    "\n",
    "    if landmarks=='error':\n",
    "        return image,0\n",
    "    \n",
    "    image_with_marks = annotate_marks_on_image(image,landmarks)\n",
    "    top_lip_center = get_top_lip(landmarks)\n",
    "    bottom_lip_center = get_bottom_lip(landmarks)\n",
    "    distance = abs(top_lip_center - bottom_lip_center)\n",
    "    return image_with_marks,distance"
   ]
  },
  {
   "cell_type": "code",
   "execution_count": 20,
   "metadata": {
    "tags": []
   },
   "outputs": [],
   "source": [
    "## Get the video stream\n",
    "cap = cv2.VideoCapture(0)\n",
    "yawn_counter = 0\n",
    "status = False\n",
    "\n",
    "while True:\n",
    "    ret,frame = cap.read()\n",
    "    image_marks,distance = open(frame)\n",
    "\n",
    "    old_status = status\n",
    "\n",
    "## Check if yawning or not based on distance\n",
    "    if distance>20:\n",
    "        status=True\n",
    "        cv2.putText(frame,\"Yawning\",(50,400),cv2.FONT_HERSHEY_COMPLEX,1,(0,255,0),2)\n",
    "        cv2.putText(frame,'Count: '+str(yawn_counter+1),(50,50),cv2.FONT_HERSHEY_COMPLEX,1,(0,255,0),2)\n",
    "    else:\n",
    "        status=False\n",
    "    \n",
    "    if old_status==True and status == False:\n",
    "        yawn_counter+=1\n",
    "    \n",
    "    cv2.imshow('Landmarks: ',image_marks)\n",
    "    cv2.imshow('Yawn counts: ',frame)\n",
    "\n",
    "    if cv2.waitKey(1)==13:\n",
    "        break\n",
    "\n",
    "cap.release()\n",
    "\n",
    "cv2.destroyAllWindows()"
   ]
  },
  {
   "cell_type": "code",
   "execution_count": null,
   "metadata": {},
   "outputs": [],
   "source": []
  }
 ],
 "metadata": {
  "language_info": {
   "codemirror_mode": {
    "name": "ipython",
    "version": 3
   },
   "file_extension": ".py",
   "mimetype": "text/x-python",
   "name": "python",
   "nbconvert_exporter": "python",
   "pygments_lexer": "ipython3",
   "version": "3.7.4-final"
  },
  "orig_nbformat": 2,
  "kernelspec": {
   "name": "python3",
   "display_name": "Python 3"
  }
 },
 "nbformat": 4,
 "nbformat_minor": 2
}