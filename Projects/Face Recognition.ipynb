{
 "cells": [
  {
   "cell_type": "code",
   "execution_count": 9,
   "metadata": {},
   "outputs": [],
   "source": [
    "import cv2\n",
    "import numpy as np\n",
    "import matplotlib.pyplot as plt"
   ]
  },
  {
   "cell_type": "code",
   "execution_count": 10,
   "metadata": {},
   "outputs": [],
   "source": [
    "## Loading HAAR classifier\n",
    "classifier = cv2.CascadeClassifier(r'C:\\Users\\saket\\Desktop\\courses\\TF\\OpenCV\\Master OpenCV\\Haarcascades\\haarcascade_frontalface_default.xml')"
   ]
  },
  {
   "cell_type": "code",
   "execution_count": 25,
   "metadata": {},
   "outputs": [],
   "source": [
    "def extractface(input_image):\n",
    "    ## Return cropped face\n",
    "    ##gray = cv2.cvtColor(input_image,cv2.COLOR_BGR2GRAY)\n",
    "    face = classifier.detectMultiScale(input_image,1.3,5)\n",
    "    if face is ():\n",
    "        return None\n",
    "    for (x,y,w,h) in face:\n",
    "        cv2.rectangle(input_image,(x,y),(x+w,y+h),(0,255,0),3)\n",
    "        cropped = input_image[y:y+h,x:x+w]\n",
    "    return cropped"
   ]
  },
  {
   "cell_type": "code",
   "execution_count": 29,
   "metadata": {
    "tags": []
   },
   "outputs": [
    {
     "output_type": "stream",
     "name": "stdout",
     "text": "invalid image\ninvalid image\ninvalid image\ninvalid image\ninvalid image\ninvalid image\ninvalid image\ninvalid image\ninvalid image\ninvalid image\ninvalid image\ninvalid image\ninvalid image\ninvalid image\ninvalid image\ninvalid image\ninvalid image\ninvalid image\ninvalid image\ninvalid image\ninvalid image\ninvalid image\ninvalid image\ninvalid image\ninvalid image\ninvalid image\ninvalid image\ninvalid image\ninvalid image\ninvalid image\n"
    }
   ],
   "source": [
    "cam = cv2.VideoCapture(1)\n",
    "i=0\n",
    "while True:\n",
    "    ret,frame = cam.read()\n",
    "    \n",
    "    if extractface(frame) is not None:\n",
    "        i +=1\n",
    "        #face = cv2.cvtColor(frame,cv2.COLOR_BGR2GRAY)\n",
    "        try:\n",
    "            face = extractface(frame)\n",
    "            try:\n",
    "                file_path = r'C:\\Users\\saket\\Desktop\\courses\\TF\\OpenCV\\Master OpenCV\\faces\\Saket\\\\'+str(i)+'.jpeg'\n",
    "                cv2.imwrite(file_path,face)\n",
    "            except cv2.error as e:\n",
    "                print('invalid image')\n",
    "            cv2.putText(frame,'face',(100,100),cv2.FONT_HERSHEY_COMPLEX,1,(0,255,0),2)\n",
    "            cv2.imshow('Face',frame)\n",
    "        except cv2.error as e:\n",
    "            print('invalid')\n",
    "            print(face.size)\n",
    "        \n",
    "    #cv2.imshow('vide feed', frame)\n",
    "    else:\n",
    "        cv2.putText(frame,'No face',(100,100),cv2.FONT_HERSHEY_COMPLEX,1,(0,255,0),2)\n",
    "        cv2.imshow('Face',frame)\n",
    "    \n",
    "    if cv2.waitKey(1)==13:\n",
    "        break\n",
    "cam.release()\n",
    "cv2.destroyAllWindows()\n"
   ]
  },
  {
   "cell_type": "code",
   "execution_count": 7,
   "metadata": {},
   "outputs": [],
   "source": [
    "cam.release()\n",
    "cv2.destroyAllWindows()"
   ]
  },
  {
   "cell_type": "code",
   "execution_count": null,
   "metadata": {},
   "outputs": [],
   "source": []
  },
  {
   "cell_type": "code",
   "execution_count": null,
   "metadata": {},
   "outputs": [],
   "source": []
  },
  {
   "cell_type": "code",
   "execution_count": null,
   "metadata": {},
   "outputs": [],
   "source": []
  },
  {
   "cell_type": "code",
   "execution_count": null,
   "metadata": {},
   "outputs": [],
   "source": []
  },
  {
   "cell_type": "code",
   "execution_count": null,
   "metadata": {},
   "outputs": [],
   "source": []
  },
  {
   "cell_type": "code",
   "execution_count": null,
   "metadata": {},
   "outputs": [],
   "source": []
  },
  {
   "cell_type": "code",
   "execution_count": null,
   "metadata": {},
   "outputs": [],
   "source": []
  },
  {
   "cell_type": "code",
   "execution_count": null,
   "metadata": {},
   "outputs": [],
   "source": []
  },
  {
   "cell_type": "code",
   "execution_count": null,
   "metadata": {},
   "outputs": [],
   "source": []
  },
  {
   "cell_type": "code",
   "execution_count": null,
   "metadata": {},
   "outputs": [],
   "source": []
  },
  {
   "cell_type": "code",
   "execution_count": null,
   "metadata": {},
   "outputs": [],
   "source": []
  },
  {
   "cell_type": "code",
   "execution_count": null,
   "metadata": {},
   "outputs": [],
   "source": []
  },
  {
   "cell_type": "code",
   "execution_count": null,
   "metadata": {},
   "outputs": [],
   "source": []
  },
  {
   "cell_type": "code",
   "execution_count": null,
   "metadata": {},
   "outputs": [],
   "source": []
  }
 ],
 "metadata": {
  "language_info": {
   "codemirror_mode": {
    "name": "ipython",
    "version": 3
   },
   "file_extension": ".py",
   "mimetype": "text/x-python",
   "name": "python",
   "nbconvert_exporter": "python",
   "pygments_lexer": "ipython3",
   "version": "3.7.4-final"
  },
  "orig_nbformat": 2,
  "kernelspec": {
   "name": "python3",
   "display_name": "Python 3"
  }
 },
 "nbformat": 4,
 "nbformat_minor": 2
}