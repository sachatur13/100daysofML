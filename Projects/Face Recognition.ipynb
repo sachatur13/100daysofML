{
 "cells": [
  {
   "cell_type": "code",
   "execution_count": 1,
   "metadata": {},
   "outputs": [],
   "source": [
    "import cv2\n",
    "import numpy as np\n",
    "import matplotlib.pyplot as plt\n",
    "import os"
   ]
  },
  {
   "cell_type": "code",
   "execution_count": 2,
   "metadata": {},
   "outputs": [],
   "source": [
    "## Loading HAAR classifier\n",
    "classifier = cv2.CascadeClassifier(r'C:\\Users\\saket\\Desktop\\courses\\TF\\OpenCV\\Master OpenCV\\Haarcascades\\haarcascade_frontalface_default.xml')"
   ]
  },
  {
   "cell_type": "code",
   "execution_count": 3,
   "metadata": {},
   "outputs": [],
   "source": [
    "def extractface(input_image):\n",
    "    ## Return cropped face\n",
    "    ##gray = cv2.cvtColor(input_image,cv2.COLOR_BGR2GRAY)\n",
    "    face = classifier.detectMultiScale(input_image,1.3,5)\n",
    "    if face is ():\n",
    "        return None\n",
    "    for (x,y,w,h) in face:\n",
    "        cv2.rectangle(input_image,(x,y),(x+w,y+h),(0,255,0),2)\n",
    "        cropped = input_image[y:y+h,x:x+w]\n",
    "    return cropped"
   ]
  },
  {
   "cell_type": "code",
   "execution_count": 4,
   "metadata": {
    "tags": []
   },
   "outputs": [
    {
     "output_type": "stream",
     "name": "stdout",
     "text": "invalid\ninvalid\ninvalid\ninvalid\ninvalid\ninvalid\ninvalid\ninvalid\ninvalid\ninvalid\ninvalid\ninvalid\ninvalid\ninvalid\ninvalid\n"
    }
   ],
   "source": [
    "cam = cv2.VideoCapture(1)\n",
    "i=0\n",
    "while True:\n",
    "    ret,frame = cam.read()\n",
    " \n",
    "    if extractface(frame) is not None:\n",
    "        i +=1\n",
    "        #face = cv2.cvtColor(frame,cv2.COLOR_BGR2GRAY)\n",
    "        try:\n",
    "            face = cv2.resize(extractface(frame),(300,300))\n",
    "\n",
    "            try:\n",
    "                file_path = r'C:\\Users\\saket\\Desktop\\courses\\TF\\OpenCV\\Master OpenCV\\faces\\Saket\\\\'+str(i)+'.jpeg'\n",
    "                cv2.imwrite(file_path,face)\n",
    "            except cv2.error as e:\n",
    "                print('invalid image')\n",
    "            cv2.putText(frame,'face',(100,100),cv2.FONT_HERSHEY_COMPLEX,1,(0,255,0),2)\n",
    "            cv2.imshow('Face',frame)\n",
    "        except cv2.error as e:\n",
    "            print('invalid')\n",
    "        \n",
    "    #cv2.imshow('vide feed', frame)\n",
    "    else:\n",
    "        cv2.putText(frame,'No face',(100,100),cv2.FONT_HERSHEY_COMPLEX,1,(0,255,0),2)\n",
    "        cv2.imshow('Face',frame)\n",
    "        \n",
    "    \n",
    "    if cv2.waitKey(1)==13:\n",
    "        break\n",
    "cam.release()\n",
    "cv2.destroyAllWindows()\n"
   ]
  },
  {
   "cell_type": "code",
   "execution_count": 5,
   "metadata": {
    "tags": []
   },
   "outputs": [
    {
     "output_type": "stream",
     "name": "stdout",
     "text": "model trained\n"
    }
   ],
   "source": [
    "## Training the machine learning model\n",
    "data_path = r'C:\\Users\\saket\\Desktop\\courses\\TF\\OpenCV\\Master OpenCV\\faces\\Saket\\\\'\n",
    "files = [ i for i in os.listdir(data_path) if os.path.isfile(os.path.join(data_path,i))]\n",
    "\n",
    "data,label = [],[]\n",
    "\n",
    "## Creating array for training data\n",
    "for i,file in enumerate(files):\n",
    "    image = data_path+files[i]\n",
    "    images = cv2.imread(image,cv2.IMREAD_GRAYSCALE)\n",
    "    data.append(images)  \n",
    "    label.append(i)\n",
    "\n",
    "\n",
    "## Array with data and labels\n",
    "label = np.asarray(label,dtype = np.int32)\n",
    "\n",
    "## Model\n",
    "recog = cv2.face.LBPHFaceRecognizer_create()\n",
    "## Model Training\n",
    "recog.train(np.asarray(data),np.asarray(label))\n",
    "print('model trained')"
   ]
  },
  {
   "cell_type": "code",
   "execution_count": 6,
   "metadata": {},
   "outputs": [],
   "source": [
    "## Running recognition\n",
    "\n",
    "def detect_face(input_image,size = 0.5):\n",
    "    gray = cv2.cvtColor(input_image,cv2.COLOR_BGR2GRAY)\n",
    "    face = classifier.detectMultiScale(gray,1.5,5)\n",
    "\n",
    "    if face is ():\n",
    "        return input_image,None\n",
    "    \n",
    "    for (x,y,w,h) in face:\n",
    "        cv2.rectangle(input_image,(x,y),(x+w,y+h),(0,0,255),2)\n",
    "        roi = input_image[y:y+h,x:x+w]\n",
    "        roi = cv2.resize(roi,(200,200))\n",
    "        \n",
    "    return input_image,roi\n",
    "\n",
    "\n"
   ]
  },
  {
   "cell_type": "code",
   "execution_count": 7,
   "metadata": {},
   "outputs": [],
   "source": [
    "camera = cv2.VideoCapture(1)\n",
    "\n",
    "while True:\n",
    "    ret,frame = camera.read()\n",
    "    image,face = detect_face(frame)\n",
    "\n",
    "    try:\n",
    "        if face is not None:\n",
    "\n",
    "            face = cv2.cvtColor(face,cv2.COLOR_BGR2GRAY)\n",
    "\n",
    "            result = recog.predict(face)\n",
    "\n",
    "            if result[1]<600:\n",
    "                conf = int(100*(1-(result[1])/300))\n",
    "                display = str(conf)+'%'\n",
    "        \n",
    "                cv2.putText(image,display,(100,100),cv2.FONT_HERSHEY_COMPLEX,1,(0,0,255),2)\n",
    "\n",
    "            if conf>75:\n",
    "                cv2.putText(image,'Saket',(100,150),cv2.FONT_HERSHEY_COMPLEX,1,(0,255,0),2)\n",
    "                cv2.imshow('Recognizer',image)\n",
    "            else:\n",
    "                cv2.putText(image,'Not Saket',(100,200),cv2.FONT_HERSHEY_COMPLEX,1,(0,0,255),2)\n",
    "                cv2.imshow('Recognizer',image)\n",
    "        else :\n",
    "            cv2.imshow('Recognizer',image)\n",
    "\n",
    "    except cv2.error as e:\n",
    "        cv2.putText(image,'No Face',(100,100),cv2.FONT_HERSHEY_COMPLEX,1,(0,0,255),2)\n",
    "        cv2.imshow('Recognizer',image)\n",
    "        \n",
    "\n",
    "    if cv2.waitKey(1) == 13:\n",
    "        break\n",
    "camera.release()\n",
    "cv2.destroyAllWindows()\n"
   ]
  },
  {
   "cell_type": "code",
   "execution_count": 42,
   "metadata": {},
   "outputs": [],
   "source": [
    "camera.release()\n"
   ]
  },
  {
   "cell_type": "code",
   "execution_count": null,
   "metadata": {},
   "outputs": [],
   "source": []
  },
  {
   "cell_type": "code",
   "execution_count": null,
   "metadata": {},
   "outputs": [],
   "source": []
  },
  {
   "cell_type": "code",
   "execution_count": null,
   "metadata": {},
   "outputs": [],
   "source": []
  },
  {
   "cell_type": "code",
   "execution_count": null,
   "metadata": {},
   "outputs": [],
   "source": []
  },
  {
   "cell_type": "code",
   "execution_count": null,
   "metadata": {},
   "outputs": [],
   "source": []
  },
  {
   "cell_type": "code",
   "execution_count": null,
   "metadata": {},
   "outputs": [],
   "source": []
  },
  {
   "cell_type": "code",
   "execution_count": null,
   "metadata": {},
   "outputs": [],
   "source": []
  },
  {
   "cell_type": "code",
   "execution_count": null,
   "metadata": {},
   "outputs": [],
   "source": []
  },
  {
   "cell_type": "code",
   "execution_count": null,
   "metadata": {},
   "outputs": [],
   "source": []
  },
  {
   "cell_type": "code",
   "execution_count": null,
   "metadata": {},
   "outputs": [],
   "source": []
  },
  {
   "cell_type": "code",
   "execution_count": null,
   "metadata": {},
   "outputs": [],
   "source": []
  }
 ],
 "metadata": {
  "language_info": {
   "codemirror_mode": {
    "name": "ipython",
    "version": 3
   },
   "file_extension": ".py",
   "mimetype": "text/x-python",
   "name": "python",
   "nbconvert_exporter": "python",
   "pygments_lexer": "ipython3",
   "version": "3.7.4-final"
  },
  "orig_nbformat": 2,
  "kernelspec": {
   "name": "python3",
   "display_name": "Python 3"
  }
 },
 "nbformat": 4,
 "nbformat_minor": 2
}