{
 "cells": [
  {
   "cell_type": "code",
   "execution_count": 2,
   "metadata": {},
   "outputs": [],
   "source": [
    "import cv2\n",
    "import numpy as np\n",
    "import matplotlib.pyplot as plt"
   ]
  },
  {
   "cell_type": "code",
   "execution_count": 20,
   "metadata": {},
   "outputs": [],
   "source": [
    "def detector(image,template):\n",
    "    ## compare input to template\n",
    "    image_1 = cv2.cvtColor(image,cv2.COLOR_BGR2GRAY)\n",
    "    \n",
    "    ## Creating object for ORB\n",
    "    orb = cv2.ORB_create(1000,1.2)\n",
    "    \n",
    "    ## detecting keypoints for the image\n",
    "    (key_1,decr_1) = orb.detectAndCompute(image_1,None)\n",
    "    \n",
    "    ## detecting keypoints for template image\n",
    "    (key_2,decr_2) = orb.detectAndCompute(template,None)\n",
    "    \n",
    "    ## Creating a matcher using BruteForce Matcher\n",
    "    bf = cv2.BFMatcher(cv2.NORM_HAMMING,crossCheck = True)\n",
    "    \n",
    "    matches = bf.match(decr_1,decr_2)\n",
    "    \n",
    "    ## Sorting matches\n",
    "    matches = sorted(matches,key = lambda val:val.distance)\n",
    "    \n",
    "    return len(matches)"
   ]
  },
  {
   "cell_type": "code",
   "execution_count": 24,
   "metadata": {},
   "outputs": [
    {
     "name": "stdout",
     "output_type": "stream",
     "text": [
     ]
    },
    {
     "name": "stdout",
     "output_type": "stream",
     "text": [
     
     ]
    }
   ],
   "source": [
    "## Capturing video\n",
    "cap = cv2.VideoCapture(0)\n",
    "\n",
    "template = cv2.imread(r'Capture44.jpg',0)\n",
    "\n",
    "while True:\n",
    "    ## Get webcam images\n",
    "    ret,frame = cap.read()\n",
    "    \n",
    "    ## Get dimensions for webcam frame\n",
    "    h,w = frame.shape[:2]\n",
    "    print(h,2)\n",
    "    ## Create bounding bvox\n",
    "    top_left_x = int(np.round(w/3,0))\n",
    "    top_left_y = int(np.round((h/2)+(h/4),0))\n",
    "    bottom_right_x = int(np.round((w/3)*2,0))\n",
    "    bottom_right_y = int(np.round((h/2) - (h/4)))\n",
    "    print(top_left_x,top_left_y)\n",
    "    print(bottom_right_x,bottom_right_y)\n",
    "    x = (top_left_x,top_left_y)\n",
    "    y = (bottom_right_x,bottom_right_y)\n",
    "    \n",
    "    cv2.rectangle(frame,x,y,255,2)\n",
    "    ## Create rectangle\n",
    "    \n",
    "    \n",
    "    ## Crop window\n",
    "    crop = frame[bottom_right_y:top_left_y,top_left_x:bottom_right_x]\n",
    "    \n",
    "    ## Flipping the image\n",
    "    frame = cv2.flip(frame,1)\n",
    "    \n",
    "    ## Getting matches using orb\n",
    "    matches = detector(crop,template)\n",
    "    \n",
    "    ## Display stats\n",
    "    output = \"Matches = \"+str(matches)\n",
    "    cv2.putText(frame,output,(50,100),cv2.FONT_HERSHEY_PLAIN,2,(0,0,255),2)\n",
    "    \n",
    "    ## Threshold for match\n",
    "    threshold = 150\n",
    "    \n",
    "    if matches>threshold:\n",
    "        cv2.rectangle(frame,(top_left_x,top_left_y),(bottom_right_x,bottom_right_y),(0,255,0),3)\n",
    "        cv2.putText(frame,\"Found\",(50,100),cv2.FONT_HERSHEY_PLAIN,2,(0,0,255),2)\n",
    "    \n",
    "    cv2.imshow('object detector',frame)\n",
    "    \n",
    "    \n",
    "    if cv2.waitKey(1) ==13:\n",
    "        break\n",
    "cap.release()\n",
    "cv2.destroyAllWindows()\n",
    "    "
   ]
  },
  {
   "cell_type": "code",
   "execution_count": null,
   "metadata": {},
   "outputs": [],
   "source": []
  },
  {
   "cell_type": "code",
   "execution_count": null,
   "metadata": {},
   "outputs": [],
   "source": []
  }
 ],
 "metadata": {
  "kernelspec": {
   "display_name": "Python 3",
   "language": "python",
   "name": "python3"
  },
  "language_info": {
   "codemirror_mode": {
    "name": "ipython",
    "version": 3
   },
   "file_extension": ".py",
   "mimetype": "text/x-python",
   "name": "python",
   "nbconvert_exporter": "python",
   "pygments_lexer": "ipython3",
   "version": "3.7.4"
  }
 },
 "nbformat": 4,
 "nbformat_minor": 2
}
