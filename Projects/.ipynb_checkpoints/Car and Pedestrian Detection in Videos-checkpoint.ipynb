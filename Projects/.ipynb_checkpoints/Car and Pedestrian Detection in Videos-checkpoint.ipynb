{
 "cells": [
  {
   "cell_type": "code",
   "execution_count": 12,
   "metadata": {},
   "outputs": [],
   "source": [
    "import cv2\n",
    "import numpy as np\n",
    "import pafy\n",
    "import youtube_dl"
   ]
  },
  {
   "cell_type": "code",
   "execution_count": 29,
   "metadata": {},
   "outputs": [],
   "source": [
    "input_url = 'https://www.youtube.com/watch?v=UDxyybahXlc'\n",
    "vpafy = pafy.new(input_url)\n",
    "play = cpafy.getbest()"
   ]
  },
  {
   "cell_type": "code",
   "execution_count": 30,
   "metadata": {},
   "outputs": [
    {
     "name": "stdout",
     "output_type": "stream",
     "text": [
      "normal:mp4@1280x720\n"
     ]
    }
   ],
   "source": [
    "print(play)"
   ]
  },
  {
   "cell_type": "code",
   "execution_count": 31,
   "metadata": {},
   "outputs": [],
   "source": [
    "## Load body classifier\n",
    "body_classif = cv2.CascadeClassifier(r'C:\\Users\\saket\\Desktop\\courses\\TF\\OpenCV\\Master OpenCV\\Haarcascades\\haarcascade_fullbody.xml')\n",
    "car_classif = cv2.CascadeClassifier(r'C:\\Users\\saket\\Desktop\\courses\\TF\\OpenCV\\Master OpenCV\\Haarcascades\\haarcascade_car.xml')"
   ]
  },
  {
   "cell_type": "code",
   "execution_count": 32,
   "metadata": {},
   "outputs": [],
   "source": [
    "## Initiating Video Capture\n",
    "#cap = cv2.VideoCapture(r'C:\\Users\\saket\\Desktop\\courses\\TF\\OpenCV\\Master OpenCV\\images\\walking.avi')\n",
    "cap = cv2.VideoCapture(play.url)"
   ]
  },
  {
   "cell_type": "code",
   "execution_count": 34,
   "metadata": {},
   "outputs": [],
   "source": [
    "while cap.isOpened():\n",
    "    ret,frame = cap.read()\n",
    "    frame = cv2.resize(frame,None,fx = 0.5,fy = 0.5,interpolation = cv2.INTER_LINEAR)\n",
    "    \n",
    "    gray = cv2.cvtColor(frame,cv2.COLOR_BGR2GRAY)\n",
    "    \n",
    "    body = body_classif.detectMultiScale(gray,1.2,3)\n",
    "    \n",
    "    for (x,y,w,h) in body:\n",
    "        cv2.rectangle(frame,(x,y),(x+w,y+h),(0,255,0),2)\n",
    "        #cv2.imshow('detecting',frame)\n",
    "        car = car_classif.detectMultiScale(gray,1.2,3)\n",
    "        \n",
    "        for (cx,cy,cw,ch) in car:\n",
    "            cv2.rectangle(frame,(cx,cy),(cx+cw,cy+ch),(0,255,0),2)\n",
    "        \n",
    "        cv2.imshow('detecting',frame)\n",
    "    \n",
    "    if cv2.waitKey(1)==13:\n",
    "        break\n",
    "\n",
    "cap.release()\n",
    "cv2.destroyAllWindows()"
   ]
  },
  {
   "cell_type": "code",
   "execution_count": null,
   "metadata": {},
   "outputs": [],
   "source": []
  }
 ],
 "metadata": {
  "kernelspec": {
   "display_name": "Python 3",
   "language": "python",
   "name": "python3"
  },
  "language_info": {
   "codemirror_mode": {
    "name": "ipython",
    "version": 3
   },
   "file_extension": ".py",
   "mimetype": "text/x-python",
   "name": "python",
   "nbconvert_exporter": "python",
   "pygments_lexer": "ipython3",
   "version": "3.7.4"
  }
 },
 "nbformat": 4,
 "nbformat_minor": 2
}
