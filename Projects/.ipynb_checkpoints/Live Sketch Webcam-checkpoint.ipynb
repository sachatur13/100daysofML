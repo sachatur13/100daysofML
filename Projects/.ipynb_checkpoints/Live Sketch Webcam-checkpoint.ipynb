{
 "cells": [
  {
   "cell_type": "code",
   "execution_count": 6,
   "metadata": {},
   "outputs": [],
   "source": [
    "import cv2\n",
    "import numpy as np\n",
    "import matplotlib.pyplot as plt\n",
    "%matplotlib inline"
   ]
  },
  {
   "cell_type": "code",
   "execution_count": 31,
   "metadata": {},
   "outputs": [],
   "source": [
    "## Generate sketch\n",
    "def generate_sketch(input_image):\n",
    "    conv_gray = cv2.cvtColor(input_image,cv2.COLOR_BGR2GRAY)\n",
    "    \n",
    "    ## cleaning using gaussian blur\n",
    "    blur = cv2.GaussianBlur(conv_gray,(5,5),0)\n",
    "    \n",
    "    ## Get edges using canny\n",
    "    edges = cv2.Canny(blur,100,200)\n",
    "    \n",
    "    ## inverse binarize\n",
    "    ret,mask = cv2.threshold(edges,127,255,cv2.THRESH_BINARY_INV)\n",
    "    \n",
    "    return mask"
   ]
  },
  {
   "cell_type": "code",
   "execution_count": 32,
   "metadata": {},
   "outputs": [],
   "source": [
    "camera = cv2.VideoCapture(0)\n",
    "\n",
    "while True:\n",
    "    ret,frame_rate = camera.read()\n",
    "    cv2.imshow('frame',generate_sketch(frame_rate))\n",
    "    if cv2.waitKey(1)==13:\n",
    "        break\n",
    "\n",
    "cv2.destroyAllWindows()"
   ]
  },
  {
   "cell_type": "code",
   "execution_count": null,
   "metadata": {},
   "outputs": [],
   "source": []
  }
 ],
 "metadata": {
  "kernelspec": {
   "display_name": "Python 3",
   "language": "python",
   "name": "python3"
  },
  "language_info": {
   "codemirror_mode": {
    "name": "ipython",
    "version": 3
   },
   "file_extension": ".py",
   "mimetype": "text/x-python",
   "name": "python",
   "nbconvert_exporter": "python",
   "pygments_lexer": "ipython3",
   "version": "3.7.4"
  }
 },
 "nbformat": 4,
 "nbformat_minor": 2
}
