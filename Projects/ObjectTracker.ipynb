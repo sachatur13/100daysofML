{
 "metadata": {
  "language_info": {
   "codemirror_mode": {
    "name": "ipython",
    "version": 3
   },
   "file_extension": ".py",
   "mimetype": "text/x-python",
   "name": "python",
   "nbconvert_exporter": "python",
   "pygments_lexer": "ipython3",
   "version": 3
  },
  "orig_nbformat": 2,
  "kernelspec": {
   "name": "python_defaultSpec_1595220784901",
   "display_name": "Python 3.7.4 64-bit ('Anaconda3': conda)"
  }
 },
 "nbformat": 4,
 "nbformat_minor": 2,
 "cells": [
  {
   "cell_type": "code",
   "execution_count": 1,
   "metadata": {},
   "outputs": [],
   "source": [
    "import cv2\n",
    "import numpy as np"
   ]
  },
  {
   "cell_type": "code",
   "execution_count": 31,
   "metadata": {
    "tags": []
   },
   "outputs": [],
   "source": [
    "camera = cv2.VideoCapture(0)\n",
    "\n",
    "lower_bound = np.array([0,152,152])\n",
    "upper_bound = np.array([255,255,255])\n",
    "\n",
    "##Empty points array\n",
    "point = []\n",
    "\n",
    "## Camera windowsize\n",
    "ret,frame = camera.read()\n",
    "h,w = frame.shape[:2]\n",
    "counts = 0\n",
    "\n",
    "while True:\n",
    "\n",
    "    ret,frame = camera.read()\n",
    "\n",
    "    hsv_image = cv2.cvtColor(frame,cv2.COLOR_BGR2HSV)\n",
    "\n",
    "    ## Threshold of the image to get only black\n",
    "    mask_ = cv2.inRange(hsv_image,lower_bound,upper_bound)\n",
    "\n",
    "\n",
    "    ## Get contours\n",
    "    contour,_ = cv2.findContours(mask_.copy(),cv2.RETR_EXTERNAL,cv2.CHAIN_APPROX_SIMPLE)\n",
    "    ##Centroid\n",
    "    center = int(h/2),int(w/2)    \n",
    "    if len(contour)>0:\n",
    "        c = max(contour,key = cv2.contourArea)\n",
    "        (x,y),radius = cv2.minEnclosingCircle(c)\n",
    "        M = cv2.moments(c)\n",
    "       \n",
    "        try:\n",
    "            center = (int(M[\"m10\"]/M[\"m00\"]),int(M['m01']/M['m00']))\n",
    "       \n",
    "        except:\n",
    "            center = int(h/2),int(w/2)\n",
    "            #print('not printing center')\n",
    "        \n",
    "        if radius>15:\n",
    "            cv2.circle(frame,(int(x),int(y)),int(radius),(0,0,255),1)\n",
    "            cv2.circle(frame,center,5,(0,255,0),-1)\n",
    "\n",
    "    ##Log center points\n",
    "    point.append(center)         \n",
    "\n",
    "    if radius>15:\n",
    "        for i in range(1,len(point)):\n",
    "            try:\n",
    "                cv2.line(frame,point[i-1],point[i],(0,255,0),2)\n",
    "            except:\n",
    "                pass\n",
    "        frame_count = 0\n",
    "    \n",
    "    else:\n",
    "        frame_count+=1\n",
    "\n",
    "        if frame_count==10:\n",
    "            point = []\n",
    "            frame_count = 0\n",
    "    frame = cv2.flip(frame,1)\n",
    "\n",
    "    cv2.imshow('tracker',frame)\n",
    "\n",
    "    if cv2.waitKey(1) ==13:\n",
    "        break\n",
    "\n",
    "cv2.destroyAllWindows()\n",
    "camera.release()\n",
    "\n",
    "\n",
    "\n"
   ]
  },
  {
   "cell_type": "code",
   "execution_count": 12,
   "metadata": {},
   "outputs": [],
   "source": [
    "\n",
    "    \n",
    "    "
   ]
  },
  {
   "cell_type": "code",
   "execution_count": 14,
   "metadata": {},
   "outputs": [
    {
     "output_type": "execute_result",
     "data": {
      "text/plain": "'4.3.0'"
     },
     "metadata": {},
     "execution_count": 14
    }
   ],
   "source": [
    "cv2.__version__"
   ]
  },
  {
   "cell_type": "code",
   "execution_count": 22,
   "metadata": {},
   "outputs": [],
   "source": [
    "camera.release()"
   ]
  },
  {
   "cell_type": "code",
   "execution_count": null,
   "metadata": {},
   "outputs": [],
   "source": []
  }
 ]
}