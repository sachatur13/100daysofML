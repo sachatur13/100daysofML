{
 "cells": [
  {
   "cell_type": "code",
   "execution_count": 1,
   "metadata": {},
   "outputs": [],
   "source": [
    "import pandas as pd\n",
    "import numpy as np\n",
    "import seaborn as sns\n",
    "import matplotlib.pyplot as plt"
   ]
  },
  {
   "cell_type": "code",
   "execution_count": 2,
   "metadata": {},
   "outputs": [],
   "source": [
    "from tensorflow.keras.datasets import mnist"
   ]
  },
  {
   "cell_type": "code",
   "execution_count": 13,
   "metadata": {},
   "outputs": [],
   "source": [
    "(X_train,y_train),(X_test,y_test) = mnist.load_data()"
   ]
  },
  {
   "cell_type": "code",
   "execution_count": 15,
   "metadata": {},
   "outputs": [
    {
     "data": {
      "text/plain": [
       "<matplotlib.image.AxesImage at 0x1d6c2573088>"
      ]
     },
     "execution_count": 15,
     "metadata": {},
     "output_type": "execute_result"
    },
    {
     "data": {
      "image/png": "[encoded data removed]",
      "text/plain": [
       "<Figure size 432x288 with 1 Axes>"
      ]
     },
     "metadata": {
      "needs_background": "light"
     },
     "output_type": "display_data"
    }
   ],
   "source": [
    "plt.imshow(X_train[5])"
   ]
  },
  {
   "cell_type": "code",
   "execution_count": 16,
   "metadata": {},
   "outputs": [],
   "source": [
    "X_train = X_train/255\n",
    "X_test = X_test/255"
   ]
  },
  {
   "cell_type": "code",
   "execution_count": 21,
   "metadata": {},
   "outputs": [],
   "source": [
    "from tensorflow.keras.models import Sequential\n",
    "from tensorflow.keras.layers import Dense,Flatten,Reshape\n",
    "from tensorflow.keras.optimizers import SGD"
   ]
  },
  {
   "cell_type": "code",
   "execution_count": 23,
   "metadata": {},
   "outputs": [],
   "source": [
    "## Here we are lowering the image dimensions from 784 to 25 in a attempt to learn the features\n",
    "## which are important for the data.\n",
    "\n",
    "encoder = Sequential()\n",
    "encoder.add(Flatten(input_shape = [28,28]))\n",
    "encoder.add(Dense(400,activation = 'relu'))\n",
    "encoder.add(Dense(200,activation = 'relu'))\n",
    "encoder.add(Dense(100,activation = 'relu'))\n",
    "encoder.add(Dense(50,activation = 'relu'))\n",
    "encoder.add(Dense(25,activation = 'relu'))"
   ]
  },
  {
   "cell_type": "code",
   "execution_count": 25,
   "metadata": {},
   "outputs": [],
   "source": [
    "decoder = Sequential()\n",
    "decoder.add(Dense(50,input_shape = [25],activation = 'relu'))\n",
    "decoder.add(Dense(100,activation = 'relu'))\n",
    "decoder.add(Dense(200,activation = 'relu'))\n",
    "decoder.add(Dense(400,activation = 'relu'))\n",
    "decoder.add(Dense(784,activation = 'sigmoid')) ## We are performing binary_crossentropy loss at the output \n",
    "#to compare the input to the output.\n",
    "decoder.add(Reshape([28,28]))\n"
   ]
  },
  {
   "cell_type": "code",
   "execution_count": 26,
   "metadata": {},
   "outputs": [],
   "source": [
    "autoencoder = Sequential([encoder,decoder])"
   ]
  },
  {
   "cell_type": "code",
   "execution_count": 27,
   "metadata": {},
   "outputs": [],
   "source": [
    "autoencoder.compile(loss = 'binary_crossentropy',\n",
    "                   optimizer = SGD(lr = 1.5))"
   ]
  },
  {
   "cell_type": "code",
   "execution_count": 28,
   "metadata": {},
   "outputs": [
    {
     "name": "stdout",
     "output_type": "stream",
     "text": [
      "Train on 60000 samples, validate on 10000 samples\n",
      "Epoch 1/10\n",
      "60000/60000 [==============================] - 16s 262us/sample - loss: 0.2509 - val_loss: 0.2154\n",
      "Epoch 2/10\n",
      "60000/60000 [==============================] - 15s 253us/sample - loss: 0.1918 - val_loss: 0.1673\n",
      "Epoch 3/10\n",
      "60000/60000 [==============================] - 17s 277us/sample - loss: 0.1587 - val_loss: 0.1496\n",
      "Epoch 4/10\n",
      "60000/60000 [==============================] - 17s 278us/sample - loss: 0.1469 - val_loss: 0.1405\n",
      "Epoch 5/10\n",
      "60000/60000 [==============================] - 15s 253us/sample - loss: 0.1411 - val_loss: 0.1369\n",
      "Epoch 6/10\n",
      "60000/60000 [==============================] - 15s 244us/sample - loss: 0.1373 - val_loss: 0.1349\n",
      "Epoch 7/10\n",
      "60000/60000 [==============================] - 16s 268us/sample - loss: 0.1347 - val_loss: 0.1320\n",
      "Epoch 8/10\n",
      "60000/60000 [==============================] - 17s 282us/sample - loss: 0.1323 - val_loss: 0.1305\n",
      "Epoch 9/10\n",
      "60000/60000 [==============================] - 16s 273us/sample - loss: 0.1293 - val_loss: 0.1309\n",
      "Epoch 10/10\n",
      "60000/60000 [==============================] - 15s 251us/sample - loss: 0.1260 - val_loss: 0.1252\n"
     ]
    },
    {
     "data": {
      "text/plain": [
       "<tensorflow.python.keras.callbacks.History at 0x1d6c5b80088>"
      ]
     },
     "execution_count": 28,
     "metadata": {},
     "output_type": "execute_result"
    }
   ],
   "source": [
    "autoencoder.fit(X_train,X_train,epochs = 10,\n",
    "               validation_data = [X_test,X_test])"
   ]
  },
  {
   "cell_type": "code",
   "execution_count": 38,
   "metadata": {},
   "outputs": [],
   "source": [
    "passed_images = autoencoder.predict(X_test[:10])"
   ]
  },
  {
   "cell_type": "code",
   "execution_count": 41,
   "metadata": {},
   "outputs": [
    {
     "name": "stdout",
     "output_type": "stream",
     "text": [
      "Original\n"
     ]
    },
    {
     "data": {
      "image/png": "[encoded data removed]",
      "text/plain": [
       "<Figure size 432x288 with 1 Axes>"
      ]
     },
     "metadata": {
      "needs_background": "light"
     },
     "output_type": "display_data"
    },
    {
     "name": "stdout",
     "output_type": "stream",
     "text": [
      "Attempted Reconstruction\n"
     ]
    },
    {
     "data": {
      "image/png": "[encoded data removed]",
      "text/plain": [
       "<Figure size 432x288 with 1 Axes>"
      ]
     },
     "metadata": {
      "needs_background": "light"
     },
     "output_type": "display_data"
    }
   ],
   "source": [
    "n = 9\n",
    "print('Original')\n",
    "plt.imshow(X_test[n])\n",
    "plt.show()\n",
    "print('Attempted Reconstruction')\n",
    "plt.imshow(passed_images[n])\n",
    "plt.show()"
   ]
  },
  {
   "cell_type": "code",
   "execution_count": 42,
   "metadata": {},
   "outputs": [],
   "source": [
    "## De noising images\n",
    "from tensorflow.keras.layers import GaussianNoise"
   ]
  },
  {
   "cell_type": "code",
   "execution_count": 44,
   "metadata": {},
   "outputs": [],
   "source": [
    "sample = GaussianNoise(0.2)"
   ]
  },
  {
   "cell_type": "code",
   "execution_count": 45,
   "metadata": {},
   "outputs": [
    {
     "name": "stdout",
     "output_type": "stream",
     "text": [
      "WARNING:tensorflow:Layer gaussian_noise_1 is casting an input tensor from dtype float64 to the layer's dtype of float32, which is new behavior in TensorFlow 2.  The layer has dtype float32 because it's dtype defaults to floatx.\n",
      "\n",
      "If you intended to run this layer in float32, you can safely ignore this warning. If in doubt, this warning is likely only an issue if you are porting a TensorFlow 1.X model to TensorFlow 2.\n",
      "\n",
      "To change all layers to have dtype float64 by default, call `tf.keras.backend.set_floatx('float64')`. To change just this layer, pass dtype='float64' to the layer constructor. If you are the author of this layer, you can disable autocasting by passing autocast=False to the base Layer constructor.\n",
      "\n"
     ]
    }
   ],
   "source": [
    "noisey = sample(X_test[:10],training = True\n",
    "               )"
   ]
  },
  {
   "cell_type": "code",
   "execution_count": 47,
   "metadata": {},
   "outputs": [
    {
     "name": "stdout",
     "output_type": "stream",
     "text": [
      "Original\n"
     ]
    },
    {
     "data": {
      "image/png": "[encoded data removed]",
      "text/plain": [
       "<Figure size 432x288 with 1 Axes>"
      ]
     },
     "metadata": {
      "needs_background": "light"
     },
     "output_type": "display_data"
    },
    {
     "name": "stdout",
     "output_type": "stream",
     "text": [
      "With noise\n"
     ]
    },
    {
     "data": {
      "image/png": "[encoded data removed]",
      "text/plain": [
       "<Figure size 432x288 with 1 Axes>"
      ]
     },
     "metadata": {
      "needs_background": "light"
     },
     "output_type": "display_data"
    }
   ],
   "source": [
    "n = 9\n",
    "print('Original')\n",
    "plt.imshow(X_test[n])\n",
    "plt.show()\n",
    "print('With noise')\n",
    "plt.imshow(noisey[n])\n",
    "plt.show()"
   ]
  },
  {
   "cell_type": "code",
   "execution_count": 48,
   "metadata": {},
   "outputs": [],
   "source": [
    "import tensorflow as tf"
   ]
  },
  {
   "cell_type": "code",
   "execution_count": 49,
   "metadata": {},
   "outputs": [],
   "source": [
    "## Here we are lowering the image dimensions from 784 to 25 in a attempt to learn the features\n",
    "## which are important for the data.\n",
    "\n",
    "encoder = Sequential()\n",
    "encoder.add(Flatten(input_shape = [28,28]))\n",
    "encoder.add(GaussianNoise(0.2))\n",
    "\n",
    "encoder.add(Dense(400,activation = 'relu'))\n",
    "encoder.add(Dense(200,activation = 'relu'))\n",
    "encoder.add(Dense(100,activation = 'relu'))\n",
    "encoder.add(Dense(50,activation = 'relu'))\n",
    "encoder.add(Dense(25,activation = 'relu'))"
   ]
  },
  {
   "cell_type": "code",
   "execution_count": 50,
   "metadata": {},
   "outputs": [],
   "source": [
    "decoder = Sequential()\n",
    "decoder.add(Dense(50,input_shape = [25],activation = 'relu'))\n",
    "decoder.add(Dense(100,activation = 'relu'))\n",
    "decoder.add(Dense(200,activation = 'relu'))\n",
    "decoder.add(Dense(400,activation = 'relu'))\n",
    "decoder.add(Dense(784,activation = 'sigmoid')) ## We are performing binary_crossentropy loss at the output \n",
    "#to compare the input to the output.\n"
   ]
  },
  {
   "cell_type": "code",
   "execution_count": 69,
   "metadata": {},
   "outputs": [],
   "source": [
    "noise_remover = Sequential([encoder,decoder])"
   ]
  },
  {
   "cell_type": "code",
   "execution_count": 70,
   "metadata": {},
   "outputs": [],
   "source": [
    "noise_remover.compile(loss = 'binary_crossentropy',optimizer = 'adam',\n",
    "                     metrics = ['accuracy'])"
   ]
  },
  {
   "cell_type": "code",
   "execution_count": 71,
   "metadata": {},
   "outputs": [
    {
     "name": "stdout",
     "output_type": "stream",
     "text": [
      "Train on 60000 samples\n",
      "Epoch 1/8\n",
      "60000/60000 [==============================] - 10s 171us/sample - loss: 0.1074 - accuracy: 0.8117\n",
      "Epoch 2/8\n",
      "60000/60000 [==============================] - 10s 174us/sample - loss: 0.1061 - accuracy: 0.8119\n",
      "Epoch 3/8\n",
      "60000/60000 [==============================] - 12s 196us/sample - loss: 0.1051 - accuracy: 0.8121\n",
      "Epoch 4/8\n",
      "60000/60000 [==============================] - 12s 203us/sample - loss: 0.1042 - accuracy: 0.8122\n",
      "Epoch 5/8\n",
      "60000/60000 [==============================] - 12s 206us/sample - loss: 0.1032 - accuracy: 0.8123\n",
      "Epoch 6/8\n",
      "60000/60000 [==============================] - 13s 213us/sample - loss: 0.1024 - accuracy: 0.8125\n",
      "Epoch 7/8\n",
      "60000/60000 [==============================] - 11s 186us/sample - loss: 0.1016 - accuracy: 0.8125\n",
      "Epoch 8/8\n",
      "60000/60000 [==============================] - 11s 186us/sample - loss: 0.1009 - accuracy: 0.8126\n"
     ]
    },
    {
     "data": {
      "text/plain": [
       "<tensorflow.python.keras.callbacks.History at 0x1d6e77acb48>"
      ]
     },
     "execution_count": 71,
     "metadata": {},
     "output_type": "execute_result"
    }
   ],
   "source": [
    "noise_remover.fit(X_train,X_train,epochs = 8)"
   ]
  },
  {
   "cell_type": "code",
   "execution_count": 54,
   "metadata": {},
   "outputs": [],
   "source": [
    "ten_noisy = sample(X_test[:10],training = True)\n",
    "denoised = noise_remover(ten_noisy)"
   ]
  },
  {
   "cell_type": "code",
   "execution_count": 55,
   "metadata": {},
   "outputs": [
    {
     "name": "stdout",
     "output_type": "stream",
     "text": [
      "Original\n"
     ]
    },
    {
     "data": {
      "image/png": "[encoded data removed]",
      "text/plain": [
       "<Figure size 432x288 with 1 Axes>"
      ]
     },
     "metadata": {
      "needs_background": "light"
     },
     "output_type": "display_data"
    },
    {
     "name": "stdout",
     "output_type": "stream",
     "text": [
      "With noise\n"
     ]
    },
    {
     "data": {
      "image/png": "[encoded data removed]",
      "text/plain": [
       "<Figure size 432x288 with 1 Axes>"
      ]
     },
     "metadata": {
      "needs_background": "light"
     },
     "output_type": "display_data"
    },
    {
     "name": "stdout",
     "output_type": "stream",
     "text": [
      "denoised\n"
     ]
    },
    {
     "data": {
      "image/png": "[encoded data removed]",
      "text/plain": [
       "<Figure size 432x288 with 1 Axes>"
      ]
     },
     "metadata": {
      "needs_background": "light"
     },
     "output_type": "display_data"
    }
   ],
   "source": [
    "n = 9\n",
    "print('Original')\n",
    "plt.imshow(X_test[n])\n",
    "plt.show()\n",
    "print('With noise')\n",
    "plt.imshow(ten_noisy[n])\n",
    "plt.show()\n",
    "print('denoised')\n",
    "plt.imshow(X_test[n])\n",
    "plt.show()\n",
    "           "
   ]
  },
  {
   "cell_type": "code",
   "execution_count": null,
   "metadata": {},
   "outputs": [],
   "source": []
  }
 ],
 "metadata": {
  "kernelspec": {
   "display_name": "Python 3.7.7 64-bit ('tf_env': conda)",
   "language": "python",
   "name": "python37764bittfenvcondab7f31cb789c741f985fce2106ba99bf0"
  },
  "language_info": {
   "codemirror_mode": {
    "name": "ipython",
    "version": 3
   },
   "file_extension": ".py",
   "mimetype": "text/x-python",
   "name": "python",
   "nbconvert_exporter": "python",
   "pygments_lexer": "ipython3",
   "version": "3.7.7"
  }
 },
 "nbformat": 4,
 "nbformat_minor": 4
}
