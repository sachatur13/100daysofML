{
  "nbformat": 4,
  "nbformat_minor": 0,
  "metadata": {
    "colab": {
      "name": "Image Reconstruction using AutoEncoders.ipynb",
      "provenance": [],
      "mount_file_id": "1uwnC8kASLv6a-Lv6ueavyT5EWOQkodHS",
      "authorship_tag": "ABX9TyML7w4KQzcdqPov91bcAprp",
      "include_colab_link": true
    },
    "kernelspec": {
      "name": "python3",
      "display_name": "Python 3"
    },
    "accelerator": "GPU"
  },
  "cells": [
    {
      "cell_type": "markdown",
      "metadata": {
        "id": "view-in-github",
        "colab_type": "text"
      },
      "source": [
        "<a href=\"https://colab.research.google.com/github/sachatur13/100daysofML/blob/master/Image_Reconstruction_using_AutoEncoders.ipynb\" target=\"_parent\"><img src=\"https://colab.research.google.com/assets/colab-badge.svg\" alt=\"Open In Colab\"/></a>"
      ]
    },
    {
      "cell_type": "code",
      "metadata": {
        "id": "9eIvyzU78eKC",
        "colab_type": "code",
        "colab": {}
      },
      "source": [
        "!pip ion"
      ],
      "execution_count": null,
      "outputs": []
    },
    {
      "cell_type": "code",
      "metadata": {
        "id": "c1Hko5CP0MEb",
        "colab_type": "code",
        "colab": {}
      },
      "source": [
        "## Library imports\n",
        "import pandas as pd\n",
        "import numpy as np\n",
        "import matplotlib.pyplot as plt\n",
        "import seaborn as sns\n",
        "import cv2\n",
        "import os"
      ],
      "execution_count": 83,
      "outputs": []
    },
    {
      "cell_type": "code",
      "metadata": {
        "id": "jgUiBRgB0pUW",
        "colab_type": "code",
        "colab": {}
      },
      "source": [
        "## Setting up the training and testing data paths\n",
        "train_data = '/content/drive/My Drive/Colab Notebooks/Data/lfw/Aaron_Eckhart/'\n",
        "test_data = '/content/drive/My Drive/Colab Notebooks/Data/lfw/Aaron_Eckhart/'"
      ],
      "execution_count": 2,
      "outputs": []
    },
    {
      "cell_type": "code",
      "metadata": {
        "id": "QcmMon0U0rZw",
        "colab_type": "code",
        "colab": {}
      },
      "source": [
        "## Image path setting\n",
        "image_path = os.listdir(train_data)[0]\n",
        "test_image_path = os.listdir(test_data)[1]"
      ],
      "execution_count": 3,
      "outputs": []
    },
    {
      "cell_type": "code",
      "metadata": {
        "id": "o6YNYkCc0tQd",
        "colab_type": "code",
        "colab": {}
      },
      "source": [
        "## Show image file\n",
        "face = train_data+image_path\n",
        "test_face = test_data+test_image_path\n",
        "def read_image_from_path(image_path_train):\n",
        "    print(image_path_train)\n",
        "    #print(image_path_test)\n",
        "    if os.path.isfile(image_path_train):\n",
        "        faceimage_train = cv2.resize(cv2.imread(image_path_train,flags = 0),(64,64),interpolation = cv2.INTER_AREA)\n",
        "        #faceimage_test = cv2.imread(image_path_test,flags = 0)\n",
        "        plt.imshow(cv2.resize(cv2.imread(image_path_train,flags = 0),(64,64),interpolation = cv2.INTER_AREA))\n",
        "        #plt.imshow(cv2.imread(image_path_test,flags =0),cmap = 'gray')\n",
        "    else:\n",
        "        print(\"File does not exist\")\n",
        "    \n",
        "    return faceimage_train#,faceimage_test"
      ],
      "execution_count": 167,
      "outputs": []
    },
    {
      "cell_type": "code",
      "metadata": {
        "id": "A5-Sz_yX0u1v",
        "colab_type": "code",
        "colab": {
          "base_uri": "https://localhost:8080/",
          "height": 303
        },
        "outputId": "2584e074-0898-46d8-a73f-fb13bb4b6d9b"
      },
      "source": [
        "\n",
        "faceimage = read_image_from_path(face);\n",
        "test_image = read_image_from_path(test_face);"
      ],
      "execution_count": 168,
      "outputs": [
        {
          "output_type": "stream",
          "text": [
            "/content/drive/My Drive/Colab Notebooks/Data/lfw/Aaron_Eckhart/Aaron_Eckhart_0001.jpg\n",
            "/content/drive/My Drive/Colab Notebooks/Data/lfw/Aaron_Eckhart/Aaron_Eckhar_0002.jpg\n"
          ],
          "name": "stdout"
        },
        {
          "output_type": "display_data",
          "data": {
            "image/png": "[encoded data removed]",
            "text/plain": [
              "<Figure size 432x288 with 1 Axes>"
            ]
          },
          "metadata": {
            "tags": [],
            "needs_background": "light"
          }
        }
      ]
    },
    {
      "cell_type": "markdown",
      "metadata": {
        "id": "8ov4-rER0yl9",
        "colab_type": "text"
      },
      "source": [
        ""
      ]
    },
    {
      "cell_type": "code",
      "metadata": {
        "id": "NmLTgEeS0zEa",
        "colab_type": "code",
        "colab": {}
      },
      "source": [
        "faceimage_scaled = faceimage/255\n",
        "test_image = test_image/255"
      ],
      "execution_count": 169,
      "outputs": []
    },
    {
      "cell_type": "code",
      "metadata": {
        "id": "-Lumx3ErDHdT",
        "colab_type": "code",
        "colab": {
          "base_uri": "https://localhost:8080/",
          "height": 34
        },
        "outputId": "fa94e06e-ae15-4bac-c6b0-4bd297f5d498"
      },
      "source": [
        "test_image.shape"
      ],
      "execution_count": 170,
      "outputs": [
        {
          "output_type": "execute_result",
          "data": {
            "text/plain": [
              "(64, 64)"
            ]
          },
          "metadata": {
            "tags": []
          },
          "execution_count": 170
        }
      ]
    },
    {
      "cell_type": "code",
      "metadata": {
        "id": "tuXHzPQ_B2v9",
        "colab_type": "code",
        "colab": {}
      },
      "source": [
        "test_image_ =  test_image.reshape(-1,64,64,1)\n",
        "faceimage_scaled_ = faceimage_scaled.reshape(-1,64,64,1)"
      ],
      "execution_count": 179,
      "outputs": []
    },
    {
      "cell_type": "code",
      "metadata": {
        "id": "hd1k4G3N0nnw",
        "colab_type": "code",
        "colab": {
          "base_uri": "https://localhost:8080/",
          "height": 35
        },
        "outputId": "a259669f-007a-4a7f-d881-ec267c1e42b3"
      },
      "source": [
        "\n",
        "import tensorflow as tf\n",
        "tf.__version__"
      ],
      "execution_count": 120,
      "outputs": [
        {
          "output_type": "execute_result",
          "data": {
            "application/vnd.google.colaboratory.intrinsic": {
              "type": "string"
            },
            "text/plain": [
              "'2.2.0'"
            ]
          },
          "metadata": {
            "tags": []
          },
          "execution_count": 120
        }
      ]
    },
    {
      "cell_type": "code",
      "metadata": {
        "id": "4W-UtsZo-45D",
        "colab_type": "code",
        "colab": {
          "base_uri": "https://localhost:8080/",
          "height": 34
        },
        "outputId": "338fb218-de55-4f89-dd1c-5e1dde17e091"
      },
      "source": [
        "\n",
        "test_image_.shape"
      ],
      "execution_count": 174,
      "outputs": [
        {
          "output_type": "execute_result",
          "data": {
            "text/plain": [
              "(64, 64)"
            ]
          },
          "metadata": {
            "tags": []
          },
          "execution_count": 174
        }
      ]
    },
    {
      "cell_type": "markdown",
      "metadata": {
        "id": "cNdJkp5u01d7",
        "colab_type": "text"
      },
      "source": [
        ""
      ]
    },
    {
      "cell_type": "code",
      "metadata": {
        "id": "-tG4fEgZ00g9",
        "colab_type": "code",
        "colab": {}
      },
      "source": [
        "from tensorflow.keras.models import Sequential\n",
        "from tensorflow.keras.layers import Dense,Flatten,Reshape\n",
        "from tensorflow.keras.callbacks import EarlyStopping"
      ],
      "execution_count": 8,
      "outputs": []
    },
    {
      "cell_type": "code",
      "metadata": {
        "id": "kS550K2204OR",
        "colab_type": "code",
        "colab": {}
      },
      "source": [
        "image_encoder = Sequential()\n",
        "image_encoder.add(Flatten(input_shape = [None,64,64,1]))\n",
        "image_encoder.add(Dense(4096,activation = 'relu'))\n",
        "image_encoder.add(Dense(2048,activation = 'relu'))\n",
        "image_encoder.add(Dense(1024,activation = 'relu'))\n",
        "image_encoder.add(Dense(512,activation = 'relu'))\n",
        "image_encoder.add(Dense(256,activation = 'relu'))"
      ],
      "execution_count": 145,
      "outputs": []
    },
    {
      "cell_type": "code",
      "metadata": {
        "id": "QQqdrjIH1qRv",
        "colab_type": "code",
        "colab": {}
      },
      "source": [
        "image_decoder = Sequential()\n",
        "image_decoder.add(Dense(512,input_shape = [256],activation = 'relu'))\n",
        "image_decoder.add(Dense(1024, activation = 'relu'))\n",
        "image_decoder.add(Dense(2048, activation = 'relu'))\n",
        "image_decoder.add(Dense(4096, activation = 'relu'))\n",
        "image_decoder.add(Dense(4096, activation = 'sigmoid'))\n",
        "\n",
        "image_decoder.add(Reshape([None,64,64,1]))"
      ],
      "execution_count": 146,
      "outputs": []
    },
    {
      "cell_type": "code",
      "metadata": {
        "id": "u0o9Z67g2Q5B",
        "colab_type": "code",
        "colab": {}
      },
      "source": [
        "image_reconstructor = Sequential([image_encoder,image_decoder])"
      ],
      "execution_count": 147,
      "outputs": []
    },
    {
      "cell_type": "code",
      "metadata": {
        "id": "LXj-yach9DoU",
        "colab_type": "code",
        "colab": {
          "base_uri": "https://localhost:8080/",
          "height": 372
        },
        "outputId": "39bbbf2b-c12f-492e-d014-8527062ecc25"
      },
      "source": [
        "image_encoder.summary()"
      ],
      "execution_count": 148,
      "outputs": [
        {
          "output_type": "stream",
          "text": [
            "Model: \"sequential_30\"\n",
            "_________________________________________________________________\n",
            "Layer (type)                 Output Shape              Param #   \n",
            "=================================================================\n",
            "flatten_10 (Flatten)         (None, 4096)              0         \n",
            "_________________________________________________________________\n",
            "dense_84 (Dense)             (None, 4096)              16781312  \n",
            "_________________________________________________________________\n",
            "dense_85 (Dense)             (None, 2048)              8390656   \n",
            "_________________________________________________________________\n",
            "dense_86 (Dense)             (None, 1024)              2098176   \n",
            "_________________________________________________________________\n",
            "dense_87 (Dense)             (None, 512)               524800    \n",
            "_________________________________________________________________\n",
            "dense_88 (Dense)             (None, 256)               131328    \n",
            "=================================================================\n",
            "Total params: 27,926,272\n",
            "Trainable params: 27,926,272\n",
            "Non-trainable params: 0\n",
            "_________________________________________________________________\n"
          ],
          "name": "stdout"
        }
      ]
    },
    {
      "cell_type": "code",
      "metadata": {
        "id": "QaHrKOs_9ha7",
        "colab_type": "code",
        "colab": {
          "base_uri": "https://localhost:8080/",
          "height": 372
        },
        "outputId": "369f9454-76aa-4ec2-917b-5855a89eabb9"
      },
      "source": [
        "image_decoder.summary()"
      ],
      "execution_count": 149,
      "outputs": [
        {
          "output_type": "stream",
          "text": [
            "Model: \"sequential_31\"\n",
            "_________________________________________________________________\n",
            "Layer (type)                 Output Shape              Param #   \n",
            "=================================================================\n",
            "dense_89 (Dense)             (None, 512)               131584    \n",
            "_________________________________________________________________\n",
            "dense_90 (Dense)             (None, 1024)              525312    \n",
            "_________________________________________________________________\n",
            "dense_91 (Dense)             (None, 2048)              2099200   \n",
            "_________________________________________________________________\n",
            "dense_92 (Dense)             (None, 4096)              8392704   \n",
            "_________________________________________________________________\n",
            "dense_93 (Dense)             (None, 4096)              16781312  \n",
            "_________________________________________________________________\n",
            "reshape_10 (Reshape)         (None, 64, 64)            0         \n",
            "=================================================================\n",
            "Total params: 27,930,112\n",
            "Trainable params: 27,930,112\n",
            "Non-trainable params: 0\n",
            "_________________________________________________________________\n"
          ],
          "name": "stdout"
        }
      ]
    },
    {
      "cell_type": "code",
      "metadata": {
        "id": "2q7JupiC46Ax",
        "colab_type": "code",
        "colab": {}
      },
      "source": [
        "image_reconstructor.compile(loss = 'binary_crossentropy',optimizer = 'adam')"
      ],
      "execution_count": 150,
      "outputs": []
    },
    {
      "cell_type": "code",
      "metadata": {
        "id": "_rF5X7nc5FFe",
        "colab_type": "code",
        "colab": {}
      },
      "source": [
        "\n",
        "early = EarlyStopping(monitor='val_loss',patience = 0.2)\n"
      ],
      "execution_count": 151,
      "outputs": []
    },
    {
      "cell_type": "code",
      "metadata": {
        "id": "QVRnofp4_M_Z",
        "colab_type": "code",
        "colab": {
          "base_uri": "https://localhost:8080/",
          "height": 34
        },
        "outputId": "878de114-3c28-4e72-c54d-62103225cdcf"
      },
      "source": [
        "faceimage_scaled.shape"
      ],
      "execution_count": 152,
      "outputs": [
        {
          "output_type": "execute_result",
          "data": {
            "text/plain": [
              "(64, 128)"
            ]
          },
          "metadata": {
            "tags": []
          },
          "execution_count": 152
        }
      ]
    },
    {
      "cell_type": "code",
      "metadata": {
        "id": "UT6KzGi_-rQq",
        "colab_type": "code",
        "colab": {
          "base_uri": "https://localhost:8080/",
          "height": 105
        },
        "outputId": "6b6e28ec-2965-4bd5-f29e-a9ffeb4fef8e"
      },
      "source": [
        "image_reconstructor.fit(test_image_,test_image_,epochs = 100,\n",
        "                        validation_data = (faceimage_scaled_,faceimage_scaled_),callbacks = [early])"
      ],
      "execution_count": 187,
      "outputs": [
        {
          "output_type": "stream",
          "text": [
            "Epoch 1/100\n",
            "1/1 [==============================] - 0s 43ms/step - loss: 2.1763 - val_loss: 0.4880\n",
            "Epoch 2/100\n",
            "1/1 [==============================] - 0s 37ms/step - loss: 0.8834 - val_loss: 0.5446\n"
          ],
          "name": "stdout"
        },
        {
          "output_type": "execute_result",
          "data": {
            "text/plain": [
              "<tensorflow.python.keras.callbacks.History at 0x7fbe0796c7b8>"
            ]
          },
          "metadata": {
            "tags": []
          },
          "execution_count": 187
        }
      ]
    },
    {
      "cell_type": "code",
      "metadata": {
        "id": "Yg-SgOW383C1",
        "colab_type": "code",
        "colab": {}
      },
      "source": [
        "generated_image = image_reconstructor.predict(faceimage_scaled_)"
      ],
      "execution_count": 189,
      "outputs": []
    },
    {
      "cell_type": "code",
      "metadata": {
        "id": "cv3Em8i2Ch1n",
        "colab_type": "code",
        "colab": {
          "base_uri": "https://localhost:8080/",
          "height": 554
        },
        "outputId": "a9c43fd0-093e-4f98-eec9-28a2ecd83dd9"
      },
      "source": [
        "print('original')\n",
        "plt.imshow(faceimage_scaled_.squeeze())\n",
        "plt.show()\n",
        "print('generated')\n",
        "plt.imshow(generated_image.squeeze())\n",
        "plt.show()"
      ],
      "execution_count": 192,
      "outputs": [
        {
          "output_type": "stream",
          "text": [
            "original\n"
          ],
          "name": "stdout"
        },
        {
          "output_type": "display_data",
          "data": {
            "image/png": "[encoded data removed]",
            "text/plain": [
              "<Figure size 432x288 with 1 Axes>"
            ]
          },
          "metadata": {
            "tags": [],
            "needs_background": "light"
          }
        },
        {
          "output_type": "stream",
          "text": [
            "generated\n"
          ],
          "name": "stdout"
        },
        {
          "output_type": "display_data",
          "data": {
            "image/png": "[encoded data removed]",
            "text/plain": [
              "<Figure size 432x288 with 1 Axes>"
            ]
          },
          "metadata": {
            "tags": [],
            "needs_background": "light"
          }
        }
      ]
    },
    {
      "cell_type": "code",
      "metadata": {
        "id": "vpncYL5WCttw",
        "colab_type": "code",
        "colab": {}
      },
      "source": [
        ""
      ],
      "execution_count": null,
      "outputs": []
    }
  ]
}